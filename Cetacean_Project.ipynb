{
  "nbformat": 4,
  "nbformat_minor": 0,
  "metadata": {
    "colab": {
      "name": "Project.ipynb",
      "provenance": [],
      "collapsed_sections": []
    },
    "kernelspec": {
      "name": "python3",
      "display_name": "Python 3"
    }
  },
  "cells": [
    {
      "cell_type": "markdown",
      "metadata": {
        "id": "zvuhPkeeOqsT"
      },
      "source": [
        "# **About the dataset:**\n",
        " A collection of all data  on marine mammals that spent some period of time captive in the US between 1938 and May 7, 2017.\n"
      ]
    },
    {
      "cell_type": "code",
      "metadata": {
        "id": "VleStQQsNrlL"
      },
      "source": [
        "#import libraries\n",
        "import pandas as pd\n",
        "import matplotlib.pyplot as plt\n",
        "import seaborn as sns\n",
        "import folium"
      ],
      "execution_count": 2,
      "outputs": []
    },
    {
      "cell_type": "code",
      "metadata": {
        "id": "JbQx8BmmOL4t"
      },
      "source": [
        "#reading the dataset into a dataframe\n",
        "\n",
        "df = pd.read_csv('https://raw.githubusercontent.com/rfordatascience/tidytuesday/master/data/2018/2018-12-18/allCetaceanData.csv',error_bad_lines=False,encoding='latin-1')\n",
        "print(df.shape)\n",
        "df.head()"
      ],
      "execution_count": null,
      "outputs": []
    },
    {
      "cell_type": "code",
      "metadata": {
        "id": "eg6MU2vOouaa"
      },
      "source": [
        "df['species'].value_counts()"
      ],
      "execution_count": null,
      "outputs": []
    },
    {
      "cell_type": "markdown",
      "metadata": {
        "id": "rgqjt3tdrmpn"
      },
      "source": [
        "# **Part 1**\n",
        "# Lets plot the trend of how these mammals were acquired over the years."
      ]
    },
    {
      "cell_type": "markdown",
      "metadata": {
        "id": "i7MXzrs2LG_l"
      },
      "source": [
        " For this, I needed to extract the year from the column 'originDate' and then plotted it using the Seaborn library."
      ]
    },
    {
      "cell_type": "code",
      "metadata": {
        "colab": {
          "base_uri": "https://localhost:8080/",
          "height": 350
        },
        "id": "YHf5M09SnkK5",
        "outputId": "aae6064f-d209-4993-8d48-258f0e4d391e"
      },
      "source": [
        "#Creating another column of the origin  year by ectracting it from the origin date\n",
        "df['originDate'] = pd.to_datetime(df['originDate'],format= '%Y-%m-%d')\n",
        "df['originYear'] = pd.DatetimeIndex(df['originDate']).year\n",
        "\n",
        "#Plotting acquisition-count vs year\n",
        "f = plt.figure(figsize=(10,5))\n",
        "ax = f.add_subplot(1,1,1)\n",
        "\n",
        "sns.histplot(data= df, ax=ax, stat=\"count\", multiple=\"stack\",\n",
        "             x=\"originYear\", kde=False,\n",
        "             hue=\"acquisition\",bins=40,\n",
        "             element=\"bars\", legend=True)\n",
        "ax.set_title(\"Trends in aquiring the mammals across all species listed 1940 - 2017\")\n",
        "ax.set_xlabel(\"Origin Year\")\n",
        "ax.set_ylabel(\"Count of Acquisition\")\n",
        "plt.show()"
      ],
      "execution_count": 5,
      "outputs": [
        {
          "output_type": "display_data",
          "data": {
            "image/png": "[encoded data removed]",
            "text/plain": [
              "<Figure size 720x360 with 1 Axes>"
            ]
          },
          "metadata": {
            "tags": [],
            "needs_background": "light"
          }
        }
      ]
    },
    {
      "cell_type": "markdown",
      "metadata": {
        "id": "8SXJP-dusB4V"
      },
      "source": [
        "# Narrowing down our research to all Dolphins and Orcas in the dataset"
      ]
    },
    {
      "cell_type": "code",
      "metadata": {
        "colab": {
          "base_uri": "https://localhost:8080/"
        },
        "id": "esBpqMBvKDQK",
        "outputId": "6aa446d7-f1fc-496d-a108-b0a0f66c6f57"
      },
      "source": [
        "#creating a dataset for only Bottlenose and Orcas\n",
        "df_ceta = df[(df['species'] == \"Bottlenose\") | (df['species'] == \"Killer Whale; Orca\")]\n",
        "df_ceta.head(100)\n",
        "df_ceta.shape"
      ],
      "execution_count": 6,
      "outputs": [
        {
          "output_type": "execute_result",
          "data": {
            "text/plain": [
              "(1747, 23)"
            ]
          },
          "metadata": {
            "tags": []
          },
          "execution_count": 6
        }
      ]
    },
    {
      "cell_type": "code",
      "metadata": {
        "colab": {
          "base_uri": "https://localhost:8080/",
          "height": 350
        },
        "id": "wAPJO8Y3pAI3",
        "outputId": "c63e77fb-ea41-4ad7-ab04-9690c1e82cad"
      },
      "source": [
        "# Plotting for only Refined dataset\n",
        "\n",
        "f = plt.figure(figsize=(10,5))\n",
        "ax = f.add_subplot(1,1,1)\n",
        "\n",
        "sns.histplot(data= df_ceta, ax=ax, stat=\"count\", multiple=\"stack\",\n",
        "             x=\"originYear\", kde=False,\n",
        "             hue=\"acquisition\",bins=40, \n",
        "             element=\"bars\", legend=True)\n",
        "ax.set_title(\"Trends in aquiring Dolphins and Orcas : 1940 - 2017\")\n",
        "ax.set_xlabel(\"Origin Year\")\n",
        "ax.set_ylabel(\"Count of Acquisition\")\n",
        "ax.set_xlim([1940,2020])\n",
        "plt.show()"
      ],
      "execution_count": 7,
      "outputs": [
        {
          "output_type": "display_data",
          "data": {
            "image/png": "[encoded data removed]",
            "text/plain": [
              "<Figure size 720x360 with 1 Axes>"
            ]
          },
          "metadata": {
            "tags": [],
            "needs_background": "light"
          }
        }
      ]
    },
    {
      "cell_type": "markdown",
      "metadata": {
        "id": "iPIig7iELWfS"
      },
      "source": [
        "# **Observations:**\n",
        "**Captured:** We can see that between 1940–1960, mammals captured were below 20. However, in the 1960s, these numbers gradually increased. The captured numbers rose exponentially in 1970 -1972. This, in my opinion, could be attributed to the success of Sea World, San Diego(established in 1964), and Sea World. Orlando ( established in 1973).\n",
        "\n",
        "**Born/Stillbirth:** We also notice that a few mammals were also born in captivity between 1970–1972 and the number of mammals born in captivity continues to grow ever since then. In the 1990s, capturing these mammals stopped. It became illegal to capture Orcas and a few other mammals. This probably got organizations to recognize the need to improve the breeding program for their benefit as we notice the number of stillbirths also reduce.\n",
        "\n",
        "**Rescued:** In the late 1990s, we noticed that these organizations began to rescue animals which is very encouraging."
      ]
    },
    {
      "cell_type": "markdown",
      "metadata": {
        "id": "S6-x0bRkZaa_"
      },
      "source": [
        "**Plotting male vs female count**"
      ]
    },
    {
      "cell_type": "code",
      "metadata": {
        "id": "_pRPbYbWSdgy",
        "colab": {
          "base_uri": "https://localhost:8080/"
        },
        "outputId": "3a01a9e1-27a6-4ba7-d7d4-6f6bf08ab50f"
      },
      "source": [
        "print(df_ceta['sex'].value_counts())\n",
        "df_ceta['sex'].isnull().sum()"
      ],
      "execution_count": 8,
      "outputs": [
        {
          "output_type": "stream",
          "text": [
            "F    919\n",
            "M    746\n",
            "U     82\n",
            "Name: sex, dtype: int64\n"
          ],
          "name": "stdout"
        },
        {
          "output_type": "execute_result",
          "data": {
            "text/plain": [
              "0"
            ]
          },
          "metadata": {
            "tags": []
          },
          "execution_count": 8
        }
      ]
    },
    {
      "cell_type": "code",
      "metadata": {
        "colab": {
          "base_uri": "https://localhost:8080/",
          "height": 295
        },
        "id": "3i_hxAzkIsAe",
        "outputId": "3f8080b8-c4d9-490b-9400-b02a2bedcbba"
      },
      "source": [
        "pd.crosstab(index=df_ceta['sex'],columns= df_ceta['species']).plot(kind='bar')\n",
        "plt.xticks([0,1,2],labels=[\"Female\",\"Male\",\"Unknown\"],rotation = \"horizontal\")\n",
        "plt.xlabel(\"Gender\")\n",
        "plt.ylabel(\"Count\")\n",
        "plt.title(\"Count of cetaceans \")\n",
        "plt.show()"
      ],
      "execution_count": 9,
      "outputs": [
        {
          "output_type": "display_data",
          "data": {
            "image/png": "[encoded data removed]",
            "text/plain": [
              "<Figure size 432x288 with 1 Axes>"
            ]
          },
          "metadata": {
            "tags": [],
            "needs_background": "light"
          }
        }
      ]
    },
    {
      "cell_type": "markdown",
      "metadata": {
        "id": "6MmrhnfIZmZ-"
      },
      "source": [
        "Result:\n",
        "\n",
        "We can see that there are about 80 bottlenose dolphins whose gender has not been identified yet."
      ]
    },
    {
      "cell_type": "code",
      "metadata": {
        "id": "w7Dc6coaYUI_",
        "colab": {
          "base_uri": "https://localhost:8080/",
          "height": 534
        },
        "outputId": "5c919647-5db2-4f62-ccbd-af2d0aebdbee"
      },
      "source": [
        "#Dropping unwanted columns\n",
        "cetacean = df_ceta.copy()\n",
        "cetacean.drop(['statusDate','notes'],axis=1,inplace=True)\n",
        "cetacean.head()"
      ],
      "execution_count": 10,
      "outputs": [
        {
          "output_type": "execute_result",
          "data": {
            "text/html": [
              "<div>\n",
              "<style scoped>\n",
              "    .dataframe tbody tr th:only-of-type {\n",
              "        vertical-align: middle;\n",
              "    }\n",
              "\n",
              "    .dataframe tbody tr th {\n",
              "        vertical-align: top;\n",
              "    }\n",
              "\n",
              "    .dataframe thead th {\n",
              "        text-align: right;\n",
              "    }\n",
              "</style>\n",
              "<table border=\"1\" class=\"dataframe\">\n",
              "  <thead>\n",
              "    <tr style=\"text-align: right;\">\n",
              "      <th></th>\n",
              "      <th>Unnamed: 0</th>\n",
              "      <th>species</th>\n",
              "      <th>id</th>\n",
              "      <th>name</th>\n",
              "      <th>sex</th>\n",
              "      <th>accuracy</th>\n",
              "      <th>birthYear</th>\n",
              "      <th>acquisition</th>\n",
              "      <th>originDate</th>\n",
              "      <th>originLocation</th>\n",
              "      <th>mother</th>\n",
              "      <th>father</th>\n",
              "      <th>transfers</th>\n",
              "      <th>currently</th>\n",
              "      <th>region</th>\n",
              "      <th>status</th>\n",
              "      <th>COD</th>\n",
              "      <th>transferDate</th>\n",
              "      <th>transfer</th>\n",
              "      <th>entryDate</th>\n",
              "      <th>originYear</th>\n",
              "    </tr>\n",
              "  </thead>\n",
              "  <tbody>\n",
              "    <tr>\n",
              "      <th>0</th>\n",
              "      <td>1</td>\n",
              "      <td>Bottlenose</td>\n",
              "      <td>NOA0004614, AZA 428, MLF-428</td>\n",
              "      <td>Dazzle</td>\n",
              "      <td>F</td>\n",
              "      <td>a</td>\n",
              "      <td>1989</td>\n",
              "      <td>Born</td>\n",
              "      <td>1989-04-07</td>\n",
              "      <td>Marineland Florida</td>\n",
              "      <td>Betty III</td>\n",
              "      <td>Davy II</td>\n",
              "      <td>NaN</td>\n",
              "      <td>Marineland Florida</td>\n",
              "      <td>US</td>\n",
              "      <td>Alive</td>\n",
              "      <td>NaN</td>\n",
              "      <td>NaN</td>\n",
              "      <td>US</td>\n",
              "      <td>1989-04-07</td>\n",
              "      <td>1989.0</td>\n",
              "    </tr>\n",
              "    <tr>\n",
              "      <th>1</th>\n",
              "      <td>2</td>\n",
              "      <td>Bottlenose</td>\n",
              "      <td>NOA0004386, AZA 138, IDR-73-1</td>\n",
              "      <td>Tursi</td>\n",
              "      <td>F</td>\n",
              "      <td>a</td>\n",
              "      <td>1973</td>\n",
              "      <td>Born</td>\n",
              "      <td>1973-11-26</td>\n",
              "      <td>Dolphin Research Center</td>\n",
              "      <td>Little Bit</td>\n",
              "      <td>Mr. Gipper</td>\n",
              "      <td>NaN</td>\n",
              "      <td>Dolphin Research Center</td>\n",
              "      <td>US</td>\n",
              "      <td>Alive</td>\n",
              "      <td>NaN</td>\n",
              "      <td>NaN</td>\n",
              "      <td>US</td>\n",
              "      <td>1973-11-26</td>\n",
              "      <td>1973.0</td>\n",
              "    </tr>\n",
              "    <tr>\n",
              "      <th>2</th>\n",
              "      <td>3</td>\n",
              "      <td>Bottlenose</td>\n",
              "      <td>NOA0002137, SWC-TTG-7816</td>\n",
              "      <td>Starbuck</td>\n",
              "      <td>M</td>\n",
              "      <td>a</td>\n",
              "      <td>1978</td>\n",
              "      <td>Born</td>\n",
              "      <td>1978-05-13</td>\n",
              "      <td>SeaWorld San Diego</td>\n",
              "      <td>Cindy (T.t. gilli)</td>\n",
              "      <td>Sambo</td>\n",
              "      <td>SeaWorld San Diego to SeaWorld Aurora (??-???-...</td>\n",
              "      <td>SeaWorld Orlando</td>\n",
              "      <td>US</td>\n",
              "      <td>Alive</td>\n",
              "      <td>NaN</td>\n",
              "      <td>NaN</td>\n",
              "      <td>US</td>\n",
              "      <td>1978-05-13</td>\n",
              "      <td>1978.0</td>\n",
              "    </tr>\n",
              "    <tr>\n",
              "      <th>3</th>\n",
              "      <td>4</td>\n",
              "      <td>Bottlenose</td>\n",
              "      <td>NOA0002690, SWF-TT-7903</td>\n",
              "      <td>Sandy</td>\n",
              "      <td>F</td>\n",
              "      <td>a</td>\n",
              "      <td>1979</td>\n",
              "      <td>Born</td>\n",
              "      <td>1979-02-03</td>\n",
              "      <td>SeaWorld Orlando</td>\n",
              "      <td>Gigi</td>\n",
              "      <td>NaN</td>\n",
              "      <td>SeaWorld Orlando to SeaWorld San Diego (&lt; Aug ...</td>\n",
              "      <td>SeaWorld San Diego</td>\n",
              "      <td>US</td>\n",
              "      <td>Alive</td>\n",
              "      <td>NaN</td>\n",
              "      <td>NaN</td>\n",
              "      <td>US</td>\n",
              "      <td>1979-02-03</td>\n",
              "      <td>1979.0</td>\n",
              "    </tr>\n",
              "    <tr>\n",
              "      <th>4</th>\n",
              "      <td>5</td>\n",
              "      <td>Bottlenose</td>\n",
              "      <td>NOA0004418, AZA 242, SWF-TT-7904, MH-82-36-TT ...</td>\n",
              "      <td>Sandy</td>\n",
              "      <td>M</td>\n",
              "      <td>a</td>\n",
              "      <td>1979</td>\n",
              "      <td>Born</td>\n",
              "      <td>1979-08-15</td>\n",
              "      <td>SeaWorld Orlando</td>\n",
              "      <td>Wendy</td>\n",
              "      <td>NaN</td>\n",
              "      <td>SeaWorld Orlando to New England Aquarium (22-F...</td>\n",
              "      <td>Dolphin Research Center</td>\n",
              "      <td>US</td>\n",
              "      <td>Alive</td>\n",
              "      <td>NaN</td>\n",
              "      <td>NaN</td>\n",
              "      <td>US</td>\n",
              "      <td>1979-08-15</td>\n",
              "      <td>1979.0</td>\n",
              "    </tr>\n",
              "  </tbody>\n",
              "</table>\n",
              "</div>"
            ],
            "text/plain": [
              "   Unnamed: 0     species  ...   entryDate originYear\n",
              "0           1  Bottlenose  ...  1989-04-07     1989.0\n",
              "1           2  Bottlenose  ...  1973-11-26     1973.0\n",
              "2           3  Bottlenose  ...  1978-05-13     1978.0\n",
              "3           4  Bottlenose  ...  1979-02-03     1979.0\n",
              "4           5  Bottlenose  ...  1979-08-15     1979.0\n",
              "\n",
              "[5 rows x 21 columns]"
            ]
          },
          "metadata": {
            "tags": []
          },
          "execution_count": 10
        }
      ]
    },
    {
      "cell_type": "markdown",
      "metadata": {
        "id": "ifmX4xR1LySI"
      },
      "source": [
        "# **Part 2**\n",
        "# Is there a relationship between where the mammals are (captive/wild) and the survival rate?"
      ]
    },
    {
      "cell_type": "markdown",
      "metadata": {
        "id": "kfNjhkIT83k9"
      },
      "source": [
        "##Feature Engineering to do a study on the relation between cetacean Acquisition and Status"
      ]
    },
    {
      "cell_type": "code",
      "metadata": {
        "id": "4SpphlutbIFI"
      },
      "source": [
        "#Filtering for cetaceans born / captured / rescued\n",
        "\n",
        "condition = (cetacean['acquisition'] == \"Born\") | (cetacean['acquisition'] == \"Capture\") |(cetacean['acquisition'] == \"Rescue\")\n",
        "\n",
        "cetacean_acquisition = cetacean[condition]\n",
        "#cetacean_acquisition.shape"
      ],
      "execution_count": 11,
      "outputs": []
    },
    {
      "cell_type": "code",
      "metadata": {
        "id": "kZSU2pFVcIdS"
      },
      "source": [
        "#Filtering for cetaceans dead/alive and captive / released\n",
        "condition_status = (cetacean['status'] == \"Died\") | (cetacean['status'] == \"Alive\") | (cetacean['status'] == \"Released\")\n",
        "cetacean_status  = cetacean[condition_status]\n",
        "#cetacean_status.shape"
      ],
      "execution_count": 12,
      "outputs": []
    },
    {
      "cell_type": "code",
      "metadata": {
        "colab": {
          "base_uri": "https://localhost:8080/",
          "height": 551
        },
        "id": "_AnK73cDdIFS",
        "outputId": "9326d50c-62b3-48d9-a592-37bb9464a798"
      },
      "source": [
        "#Merge the two dataframes\n",
        "\n",
        "cetacean_acquisition_status = pd.merge(cetacean_acquisition,cetacean_status,how ='inner')\n",
        "print(cetacean_acquisition_status.shape)\n",
        "cetacean_acquisition_status.head()"
      ],
      "execution_count": 13,
      "outputs": [
        {
          "output_type": "stream",
          "text": [
            "(1630, 21)\n"
          ],
          "name": "stdout"
        },
        {
          "output_type": "execute_result",
          "data": {
            "text/html": [
              "<div>\n",
              "<style scoped>\n",
              "    .dataframe tbody tr th:only-of-type {\n",
              "        vertical-align: middle;\n",
              "    }\n",
              "\n",
              "    .dataframe tbody tr th {\n",
              "        vertical-align: top;\n",
              "    }\n",
              "\n",
              "    .dataframe thead th {\n",
              "        text-align: right;\n",
              "    }\n",
              "</style>\n",
              "<table border=\"1\" class=\"dataframe\">\n",
              "  <thead>\n",
              "    <tr style=\"text-align: right;\">\n",
              "      <th></th>\n",
              "      <th>Unnamed: 0</th>\n",
              "      <th>species</th>\n",
              "      <th>id</th>\n",
              "      <th>name</th>\n",
              "      <th>sex</th>\n",
              "      <th>accuracy</th>\n",
              "      <th>birthYear</th>\n",
              "      <th>acquisition</th>\n",
              "      <th>originDate</th>\n",
              "      <th>originLocation</th>\n",
              "      <th>mother</th>\n",
              "      <th>father</th>\n",
              "      <th>transfers</th>\n",
              "      <th>currently</th>\n",
              "      <th>region</th>\n",
              "      <th>status</th>\n",
              "      <th>COD</th>\n",
              "      <th>transferDate</th>\n",
              "      <th>transfer</th>\n",
              "      <th>entryDate</th>\n",
              "      <th>originYear</th>\n",
              "    </tr>\n",
              "  </thead>\n",
              "  <tbody>\n",
              "    <tr>\n",
              "      <th>0</th>\n",
              "      <td>1</td>\n",
              "      <td>Bottlenose</td>\n",
              "      <td>NOA0004614, AZA 428, MLF-428</td>\n",
              "      <td>Dazzle</td>\n",
              "      <td>F</td>\n",
              "      <td>a</td>\n",
              "      <td>1989</td>\n",
              "      <td>Born</td>\n",
              "      <td>1989-04-07</td>\n",
              "      <td>Marineland Florida</td>\n",
              "      <td>Betty III</td>\n",
              "      <td>Davy II</td>\n",
              "      <td>NaN</td>\n",
              "      <td>Marineland Florida</td>\n",
              "      <td>US</td>\n",
              "      <td>Alive</td>\n",
              "      <td>NaN</td>\n",
              "      <td>NaN</td>\n",
              "      <td>US</td>\n",
              "      <td>1989-04-07</td>\n",
              "      <td>1989.0</td>\n",
              "    </tr>\n",
              "    <tr>\n",
              "      <th>1</th>\n",
              "      <td>2</td>\n",
              "      <td>Bottlenose</td>\n",
              "      <td>NOA0004386, AZA 138, IDR-73-1</td>\n",
              "      <td>Tursi</td>\n",
              "      <td>F</td>\n",
              "      <td>a</td>\n",
              "      <td>1973</td>\n",
              "      <td>Born</td>\n",
              "      <td>1973-11-26</td>\n",
              "      <td>Dolphin Research Center</td>\n",
              "      <td>Little Bit</td>\n",
              "      <td>Mr. Gipper</td>\n",
              "      <td>NaN</td>\n",
              "      <td>Dolphin Research Center</td>\n",
              "      <td>US</td>\n",
              "      <td>Alive</td>\n",
              "      <td>NaN</td>\n",
              "      <td>NaN</td>\n",
              "      <td>US</td>\n",
              "      <td>1973-11-26</td>\n",
              "      <td>1973.0</td>\n",
              "    </tr>\n",
              "    <tr>\n",
              "      <th>2</th>\n",
              "      <td>3</td>\n",
              "      <td>Bottlenose</td>\n",
              "      <td>NOA0002137, SWC-TTG-7816</td>\n",
              "      <td>Starbuck</td>\n",
              "      <td>M</td>\n",
              "      <td>a</td>\n",
              "      <td>1978</td>\n",
              "      <td>Born</td>\n",
              "      <td>1978-05-13</td>\n",
              "      <td>SeaWorld San Diego</td>\n",
              "      <td>Cindy (T.t. gilli)</td>\n",
              "      <td>Sambo</td>\n",
              "      <td>SeaWorld San Diego to SeaWorld Aurora (??-???-...</td>\n",
              "      <td>SeaWorld Orlando</td>\n",
              "      <td>US</td>\n",
              "      <td>Alive</td>\n",
              "      <td>NaN</td>\n",
              "      <td>NaN</td>\n",
              "      <td>US</td>\n",
              "      <td>1978-05-13</td>\n",
              "      <td>1978.0</td>\n",
              "    </tr>\n",
              "    <tr>\n",
              "      <th>3</th>\n",
              "      <td>4</td>\n",
              "      <td>Bottlenose</td>\n",
              "      <td>NOA0002690, SWF-TT-7903</td>\n",
              "      <td>Sandy</td>\n",
              "      <td>F</td>\n",
              "      <td>a</td>\n",
              "      <td>1979</td>\n",
              "      <td>Born</td>\n",
              "      <td>1979-02-03</td>\n",
              "      <td>SeaWorld Orlando</td>\n",
              "      <td>Gigi</td>\n",
              "      <td>NaN</td>\n",
              "      <td>SeaWorld Orlando to SeaWorld San Diego (&lt; Aug ...</td>\n",
              "      <td>SeaWorld San Diego</td>\n",
              "      <td>US</td>\n",
              "      <td>Alive</td>\n",
              "      <td>NaN</td>\n",
              "      <td>NaN</td>\n",
              "      <td>US</td>\n",
              "      <td>1979-02-03</td>\n",
              "      <td>1979.0</td>\n",
              "    </tr>\n",
              "    <tr>\n",
              "      <th>4</th>\n",
              "      <td>5</td>\n",
              "      <td>Bottlenose</td>\n",
              "      <td>NOA0004418, AZA 242, SWF-TT-7904, MH-82-36-TT ...</td>\n",
              "      <td>Sandy</td>\n",
              "      <td>M</td>\n",
              "      <td>a</td>\n",
              "      <td>1979</td>\n",
              "      <td>Born</td>\n",
              "      <td>1979-08-15</td>\n",
              "      <td>SeaWorld Orlando</td>\n",
              "      <td>Wendy</td>\n",
              "      <td>NaN</td>\n",
              "      <td>SeaWorld Orlando to New England Aquarium (22-F...</td>\n",
              "      <td>Dolphin Research Center</td>\n",
              "      <td>US</td>\n",
              "      <td>Alive</td>\n",
              "      <td>NaN</td>\n",
              "      <td>NaN</td>\n",
              "      <td>US</td>\n",
              "      <td>1979-08-15</td>\n",
              "      <td>1979.0</td>\n",
              "    </tr>\n",
              "  </tbody>\n",
              "</table>\n",
              "</div>"
            ],
            "text/plain": [
              "   Unnamed: 0     species  ...   entryDate originYear\n",
              "0           1  Bottlenose  ...  1989-04-07     1989.0\n",
              "1           2  Bottlenose  ...  1973-11-26     1973.0\n",
              "2           3  Bottlenose  ...  1978-05-13     1978.0\n",
              "3           4  Bottlenose  ...  1979-02-03     1979.0\n",
              "4           5  Bottlenose  ...  1979-08-15     1979.0\n",
              "\n",
              "[5 rows x 21 columns]"
            ]
          },
          "metadata": {
            "tags": []
          },
          "execution_count": 13
        }
      ]
    },
    {
      "cell_type": "markdown",
      "metadata": {
        "id": "FoGTWLYLh-6k"
      },
      "source": [
        "##Now we need to conduct the chi-square test as we are dealing with two categorical variables\n",
        "\n",
        "**Ho:** There is no relationship between cetaceans acquisition and status\n",
        "\n",
        "**Ha:** There is relationship between cetaceans acquisition and status\n"
      ]
    },
    {
      "cell_type": "code",
      "metadata": {
        "colab": {
          "base_uri": "https://localhost:8080/"
        },
        "id": "vogYRc--gISt",
        "outputId": "dd0312e9-f230-4276-887f-d838db74b325"
      },
      "source": [
        "from scipy.stats import chi2_contingency\n",
        "\n",
        "chi2, p_value, dof, expected = chi2_contingency(pd.crosstab(cetacean_acquisition_status['acquisition'], cetacean_acquisition_status['status']))\n",
        "\n",
        "print(\"Chi2 statistic is:\", chi2)\n",
        "print(\"P-value is:\", p_value)\n",
        "#print(\"Deg of freedom is:\", dof)\n",
        "#print(\"Expected array is:\", expected)"
      ],
      "execution_count": 14,
      "outputs": [
        {
          "output_type": "stream",
          "text": [
            "Chi2 statistic is: 361.13171143198934\n",
            "P-value is: 6.922762352409928e-77\n"
          ],
          "name": "stdout"
        }
      ]
    },
    {
      "cell_type": "markdown",
      "metadata": {
        "id": "ZFde-Gu6hLqI"
      },
      "source": [
        "##Result\n",
        "\n",
        "**Based on a chi2 statistic of 361 and a p-value of ~0, we reject the null hypothesis that there is no relationship between cetacean aquisition and status, and we suggest the alternative, that there is an association between these two categorical variables.**"
      ]
    },
    {
      "cell_type": "markdown",
      "metadata": {
        "id": "FsFMHy1bSQ-B"
      },
      "source": [
        "##Graph - Percentage of cetaceans status by type of acquisition"
      ]
    },
    {
      "cell_type": "code",
      "metadata": {
        "id": "kg46fyh8ioU6",
        "colab": {
          "base_uri": "https://localhost:8080/",
          "height": 295
        },
        "outputId": "4b9a2a52-5b0d-46c5-abd7-17ef01af6e98"
      },
      "source": [
        "#Graph - Percentage of cetaceans status by type of acquisition\n",
        "\n",
        "\n",
        "(pd.crosstab(cetacean_acquisition_status['acquisition'], cetacean_acquisition_status['status'],normalize='index')*100).plot(kind='bar')\n",
        "plt.title(\"Percentage of cetaceans status by type of acquisition\")\n",
        "plt.legend(title='Current Status')\n",
        "plt.xticks(rotation='horizontal')\n",
        "plt.ylabel('Percent')\n",
        "plt.xlabel(\"Acquisition type\")\n",
        "\n",
        "plt.show()"
      ],
      "execution_count": 15,
      "outputs": [
        {
          "output_type": "display_data",
          "data": {
            "image/png": "[encoded data removed]",
            "text/plain": [
              "<Figure size 432x288 with 1 Axes>"
            ]
          },
          "metadata": {
            "tags": [],
            "needs_background": "light"
          }
        }
      ]
    },
    {
      "cell_type": "markdown",
      "metadata": {
        "id": "EQXZiHwASpTU"
      },
      "source": [
        "##Conclusions:\n",
        "\n",
        "1. This graph clearly shows that cetaceans that were captured have a lower survival rate in comparison to cetaceans bred in captivity or those that were rescued by the various marine organizations. \n",
        "\n",
        "2. Although not very significant , it is reassuring to note that the release of these mammals is improving given the fact that mammals born in capitivity are also being released."
      ]
    },
    {
      "cell_type": "markdown",
      "metadata": {
        "id": "xfGfY9B3cfWU"
      },
      "source": [
        "# **Part 3**\n",
        "# Plotting all Cetaceans on the US map"
      ]
    },
    {
      "cell_type": "code",
      "metadata": {
        "id": "0jXGUspMWMXp",
        "colab": {
          "base_uri": "https://localhost:8080/"
        },
        "outputId": "f8f35377-49c1-4f15-fea3-2a5183be172f"
      },
      "source": [
        "#Listing out the places the mammals currently are as of May 2017\n",
        "df['currently'].value_counts()"
      ],
      "execution_count": 44,
      "outputs": [
        {
          "output_type": "execute_result",
          "data": {
            "text/plain": [
              "Unknown                                265\n",
              "U.S. Navy                              206\n",
              "SeaWorld San Diego                     203\n",
              "SeaWorld Orlando                       140\n",
              "Sea Life Park Hawaii                   124\n",
              "                                      ... \n",
              "Knott's Berry Farm                       1\n",
              "Sea World San Antonio                    1\n",
              "Institute for Marine Mammal Studies      1\n",
              "Pittsburgh Zoo                           1\n",
              "Six Flags Mid America                    1\n",
              "Name: currently, Length: 97, dtype: int64"
            ]
          },
          "metadata": {
            "tags": []
          },
          "execution_count": 44
        }
      ]
    },
    {
      "cell_type": "code",
      "metadata": {
        "colab": {
          "base_uri": "https://localhost:8080/",
          "height": 212
        },
        "id": "shNfX4Y2bfHx",
        "outputId": "39be200b-572d-4566-9ac0-8f4134c22f27"
      },
      "source": [
        "#Loading dataset with the lattitude and longitude values of places listed in the column \"currently\"\n",
        "\n",
        "geo_df = pd.read_csv('https://raw.githubusercontent.com/rhiag/Cetaceans/main/all_geo_codes.csv',error_bad_lines=False)\n",
        "\n",
        "geo_df.rename(columns = {'Place':'currently'}, inplace = True)\n",
        "geo_df.head()"
      ],
      "execution_count": 36,
      "outputs": [
        {
          "output_type": "stream",
          "text": [
            "b'Skipping line 21: expected 3 fields, saw 4\\nSkipping line 32: expected 3 fields, saw 5\\nSkipping line 49: expected 3 fields, saw 4\\n'\n"
          ],
          "name": "stderr"
        },
        {
          "output_type": "execute_result",
          "data": {
            "text/html": [
              "<div>\n",
              "<style scoped>\n",
              "    .dataframe tbody tr th:only-of-type {\n",
              "        vertical-align: middle;\n",
              "    }\n",
              "\n",
              "    .dataframe tbody tr th {\n",
              "        vertical-align: top;\n",
              "    }\n",
              "\n",
              "    .dataframe thead th {\n",
              "        text-align: right;\n",
              "    }\n",
              "</style>\n",
              "<table border=\"1\" class=\"dataframe\">\n",
              "  <thead>\n",
              "    <tr style=\"text-align: right;\">\n",
              "      <th></th>\n",
              "      <th>currently</th>\n",
              "      <th>Lat</th>\n",
              "      <th>Long</th>\n",
              "    </tr>\n",
              "  </thead>\n",
              "  <tbody>\n",
              "    <tr>\n",
              "      <th>0</th>\n",
              "      <td>Marineland Florida</td>\n",
              "      <td>29.66934</td>\n",
              "      <td>-81.212670</td>\n",
              "    </tr>\n",
              "    <tr>\n",
              "      <th>1</th>\n",
              "      <td>Dolphin Research Center</td>\n",
              "      <td>24.76794</td>\n",
              "      <td>-80.944550</td>\n",
              "    </tr>\n",
              "    <tr>\n",
              "      <th>2</th>\n",
              "      <td>SeaWorld Orlando</td>\n",
              "      <td>28.41164</td>\n",
              "      <td>-81.459106</td>\n",
              "    </tr>\n",
              "    <tr>\n",
              "      <th>3</th>\n",
              "      <td>SeaWorld San Diego</td>\n",
              "      <td>32.76113</td>\n",
              "      <td>-117.219980</td>\n",
              "    </tr>\n",
              "    <tr>\n",
              "      <th>4</th>\n",
              "      <td>SeaWorld San Antonio</td>\n",
              "      <td>29.45661</td>\n",
              "      <td>-98.699070</td>\n",
              "    </tr>\n",
              "  </tbody>\n",
              "</table>\n",
              "</div>"
            ],
            "text/plain": [
              "                 currently       Lat        Long\n",
              "0       Marineland Florida  29.66934  -81.212670\n",
              "1  Dolphin Research Center  24.76794  -80.944550\n",
              "2         SeaWorld Orlando  28.41164  -81.459106\n",
              "3       SeaWorld San Diego  32.76113 -117.219980\n",
              "4     SeaWorld San Antonio  29.45661  -98.699070"
            ]
          },
          "metadata": {
            "tags": []
          },
          "execution_count": 36
        }
      ]
    },
    {
      "cell_type": "code",
      "metadata": {
        "colab": {
          "base_uri": "https://localhost:8080/",
          "height": 484
        },
        "id": "4ofW_nnn-QTA",
        "outputId": "96b05eff-0d5b-4bbb-dc3f-0a6bfcb5a390"
      },
      "source": [
        "#Merging geo data with all cetacean dataset(df)\n",
        "final_cetacean = pd.merge(df,geo_df,how ='inner',on = 'currently' )\n",
        "print(final_cetacean.shape)\n",
        "final_cetacean.head()\n"
      ],
      "execution_count": 37,
      "outputs": [
        {
          "output_type": "stream",
          "text": [
            "(1683, 25)\n"
          ],
          "name": "stdout"
        },
        {
          "output_type": "execute_result",
          "data": {
            "text/html": [
              "<div>\n",
              "<style scoped>\n",
              "    .dataframe tbody tr th:only-of-type {\n",
              "        vertical-align: middle;\n",
              "    }\n",
              "\n",
              "    .dataframe tbody tr th {\n",
              "        vertical-align: top;\n",
              "    }\n",
              "\n",
              "    .dataframe thead th {\n",
              "        text-align: right;\n",
              "    }\n",
              "</style>\n",
              "<table border=\"1\" class=\"dataframe\">\n",
              "  <thead>\n",
              "    <tr style=\"text-align: right;\">\n",
              "      <th></th>\n",
              "      <th>Unnamed: 0</th>\n",
              "      <th>species</th>\n",
              "      <th>id</th>\n",
              "      <th>name</th>\n",
              "      <th>sex</th>\n",
              "      <th>accuracy</th>\n",
              "      <th>birthYear</th>\n",
              "      <th>acquisition</th>\n",
              "      <th>originDate</th>\n",
              "      <th>originLocation</th>\n",
              "      <th>mother</th>\n",
              "      <th>father</th>\n",
              "      <th>transfers</th>\n",
              "      <th>currently</th>\n",
              "      <th>region</th>\n",
              "      <th>status</th>\n",
              "      <th>statusDate</th>\n",
              "      <th>COD</th>\n",
              "      <th>notes</th>\n",
              "      <th>transferDate</th>\n",
              "      <th>transfer</th>\n",
              "      <th>entryDate</th>\n",
              "      <th>originYear</th>\n",
              "      <th>Lat</th>\n",
              "      <th>Long</th>\n",
              "    </tr>\n",
              "  </thead>\n",
              "  <tbody>\n",
              "    <tr>\n",
              "      <th>0</th>\n",
              "      <td>1</td>\n",
              "      <td>Bottlenose</td>\n",
              "      <td>NOA0004614, AZA 428, MLF-428</td>\n",
              "      <td>Dazzle</td>\n",
              "      <td>F</td>\n",
              "      <td>a</td>\n",
              "      <td>1989</td>\n",
              "      <td>Born</td>\n",
              "      <td>1989-04-07</td>\n",
              "      <td>Marineland Florida</td>\n",
              "      <td>Betty III</td>\n",
              "      <td>Davy II</td>\n",
              "      <td>NaN</td>\n",
              "      <td>Marineland Florida</td>\n",
              "      <td>US</td>\n",
              "      <td>Alive</td>\n",
              "      <td>NaN</td>\n",
              "      <td>NaN</td>\n",
              "      <td>NaN</td>\n",
              "      <td>NaN</td>\n",
              "      <td>US</td>\n",
              "      <td>1989-04-07</td>\n",
              "      <td>1989.0</td>\n",
              "      <td>29.66934</td>\n",
              "      <td>-81.21267</td>\n",
              "    </tr>\n",
              "    <tr>\n",
              "      <th>1</th>\n",
              "      <td>11</td>\n",
              "      <td>Bottlenose</td>\n",
              "      <td>NOA0004607, AZA 362, MLF-410</td>\n",
              "      <td>Sunny</td>\n",
              "      <td>M</td>\n",
              "      <td>a</td>\n",
              "      <td>1984</td>\n",
              "      <td>Born</td>\n",
              "      <td>1984-01-12</td>\n",
              "      <td>Marineland Florida</td>\n",
              "      <td>Nellie</td>\n",
              "      <td>Rusty (blonde)</td>\n",
              "      <td>NaN</td>\n",
              "      <td>Marineland Florida</td>\n",
              "      <td>US</td>\n",
              "      <td>Alive</td>\n",
              "      <td>NaN</td>\n",
              "      <td>NaN</td>\n",
              "      <td>Sunny was originally nicknamed \"Jan\"</td>\n",
              "      <td>NaN</td>\n",
              "      <td>US</td>\n",
              "      <td>1984-01-12</td>\n",
              "      <td>1984.0</td>\n",
              "      <td>29.66934</td>\n",
              "      <td>-81.21267</td>\n",
              "    </tr>\n",
              "    <tr>\n",
              "      <th>2</th>\n",
              "      <td>32</td>\n",
              "      <td>Bottlenose</td>\n",
              "      <td>NOA0004617, AZA 447, MLF-431</td>\n",
              "      <td>Roxy</td>\n",
              "      <td>F</td>\n",
              "      <td>a</td>\n",
              "      <td>1990</td>\n",
              "      <td>Born</td>\n",
              "      <td>1990-08-26</td>\n",
              "      <td>Marineland Florida</td>\n",
              "      <td>Pebbles</td>\n",
              "      <td>Chubby</td>\n",
              "      <td>NaN</td>\n",
              "      <td>Marineland Florida</td>\n",
              "      <td>US</td>\n",
              "      <td>Alive</td>\n",
              "      <td>NaN</td>\n",
              "      <td>NaN</td>\n",
              "      <td>NaN</td>\n",
              "      <td>NaN</td>\n",
              "      <td>US</td>\n",
              "      <td>1990-08-26</td>\n",
              "      <td>1990.0</td>\n",
              "      <td>29.66934</td>\n",
              "      <td>-81.21267</td>\n",
              "    </tr>\n",
              "    <tr>\n",
              "      <th>3</th>\n",
              "      <td>57</td>\n",
              "      <td>Bottlenose</td>\n",
              "      <td>NOA0005495, AZA 551, M12015 (Georgia Aquarium)</td>\n",
              "      <td>Zac</td>\n",
              "      <td>M</td>\n",
              "      <td>a</td>\n",
              "      <td>1995</td>\n",
              "      <td>Born</td>\n",
              "      <td>1995-02-23</td>\n",
              "      <td>Gulfarium</td>\n",
              "      <td>Delilah</td>\n",
              "      <td>Panama</td>\n",
              "      <td>Gulfarium Marine Adventure Park to Gulf World ...</td>\n",
              "      <td>Marineland Florida</td>\n",
              "      <td>US</td>\n",
              "      <td>Alive</td>\n",
              "      <td>NaN</td>\n",
              "      <td>NaN</td>\n",
              "      <td>NaN</td>\n",
              "      <td>NaN</td>\n",
              "      <td>US</td>\n",
              "      <td>1995-02-23</td>\n",
              "      <td>1995.0</td>\n",
              "      <td>29.66934</td>\n",
              "      <td>-81.21267</td>\n",
              "    </tr>\n",
              "    <tr>\n",
              "      <th>4</th>\n",
              "      <td>123</td>\n",
              "      <td>Bottlenose</td>\n",
              "      <td>NOA0006016, AZA 817, MPF-105</td>\n",
              "      <td>Casique</td>\n",
              "      <td>F</td>\n",
              "      <td>a</td>\n",
              "      <td>2002</td>\n",
              "      <td>Born</td>\n",
              "      <td>2002-04-30</td>\n",
              "      <td>Marineland Florida</td>\n",
              "      <td>Dazzle</td>\n",
              "      <td>Chubby</td>\n",
              "      <td>NaN</td>\n",
              "      <td>Marineland Florida</td>\n",
              "      <td>US</td>\n",
              "      <td>Alive</td>\n",
              "      <td>NaN</td>\n",
              "      <td>NaN</td>\n",
              "      <td>NaN</td>\n",
              "      <td>NaN</td>\n",
              "      <td>US</td>\n",
              "      <td>2002-04-30</td>\n",
              "      <td>2002.0</td>\n",
              "      <td>29.66934</td>\n",
              "      <td>-81.21267</td>\n",
              "    </tr>\n",
              "  </tbody>\n",
              "</table>\n",
              "</div>"
            ],
            "text/plain": [
              "   Unnamed: 0     species  ...       Lat      Long\n",
              "0           1  Bottlenose  ...  29.66934 -81.21267\n",
              "1          11  Bottlenose  ...  29.66934 -81.21267\n",
              "2          32  Bottlenose  ...  29.66934 -81.21267\n",
              "3          57  Bottlenose  ...  29.66934 -81.21267\n",
              "4         123  Bottlenose  ...  29.66934 -81.21267\n",
              "\n",
              "[5 rows x 25 columns]"
            ]
          },
          "metadata": {
            "tags": []
          },
          "execution_count": 37
        }
      ]
    },
    {
      "cell_type": "code",
      "metadata": {
        "colab": {
          "base_uri": "https://localhost:8080/"
        },
        "id": "S3XSImSLHvk7",
        "outputId": "22cf9f61-29d5-4fb7-faa7-d6277d4b3366"
      },
      "source": [
        "#Creating a new dataframe with on required information to plot the map\n",
        "map_df = pd.DataFrame()\n",
        "map_df.shape"
      ],
      "execution_count": 38,
      "outputs": [
        {
          "output_type": "execute_result",
          "data": {
            "text/plain": [
              "(0, 0)"
            ]
          },
          "metadata": {
            "tags": []
          },
          "execution_count": 38
        }
      ]
    },
    {
      "cell_type": "code",
      "metadata": {
        "id": "_5NajjBuIErP",
        "colab": {
          "base_uri": "https://localhost:8080/",
          "height": 195
        },
        "outputId": "994c044f-c9d9-4116-d4e8-25a054a78200"
      },
      "source": [
        "map_df['currently'] = final_cetacean['currently'].unique()\n",
        "map_df['Population_mammals'] = final_cetacean.groupby('currently')['currently'].transform('count')\n",
        "map_df = pd.merge(map_df,geo_df,on='currently',how='inner')\n",
        "map_df.head()"
      ],
      "execution_count": 39,
      "outputs": [
        {
          "output_type": "execute_result",
          "data": {
            "text/html": [
              "<div>\n",
              "<style scoped>\n",
              "    .dataframe tbody tr th:only-of-type {\n",
              "        vertical-align: middle;\n",
              "    }\n",
              "\n",
              "    .dataframe tbody tr th {\n",
              "        vertical-align: top;\n",
              "    }\n",
              "\n",
              "    .dataframe thead th {\n",
              "        text-align: right;\n",
              "    }\n",
              "</style>\n",
              "<table border=\"1\" class=\"dataframe\">\n",
              "  <thead>\n",
              "    <tr style=\"text-align: right;\">\n",
              "      <th></th>\n",
              "      <th>currently</th>\n",
              "      <th>Population_mammals</th>\n",
              "      <th>Lat</th>\n",
              "      <th>Long</th>\n",
              "    </tr>\n",
              "  </thead>\n",
              "  <tbody>\n",
              "    <tr>\n",
              "      <th>0</th>\n",
              "      <td>Marineland Florida</td>\n",
              "      <td>67</td>\n",
              "      <td>29.66934</td>\n",
              "      <td>-81.212670</td>\n",
              "    </tr>\n",
              "    <tr>\n",
              "      <th>1</th>\n",
              "      <td>Dolphin Research Center</td>\n",
              "      <td>67</td>\n",
              "      <td>24.76794</td>\n",
              "      <td>-80.944550</td>\n",
              "    </tr>\n",
              "    <tr>\n",
              "      <th>2</th>\n",
              "      <td>SeaWorld Orlando</td>\n",
              "      <td>67</td>\n",
              "      <td>28.41164</td>\n",
              "      <td>-81.459106</td>\n",
              "    </tr>\n",
              "    <tr>\n",
              "      <th>3</th>\n",
              "      <td>SeaWorld San Diego</td>\n",
              "      <td>67</td>\n",
              "      <td>32.76113</td>\n",
              "      <td>-117.219980</td>\n",
              "    </tr>\n",
              "    <tr>\n",
              "      <th>4</th>\n",
              "      <td>SeaWorld San Antonio</td>\n",
              "      <td>67</td>\n",
              "      <td>29.45661</td>\n",
              "      <td>-98.699070</td>\n",
              "    </tr>\n",
              "  </tbody>\n",
              "</table>\n",
              "</div>"
            ],
            "text/plain": [
              "                 currently  Population_mammals       Lat        Long\n",
              "0       Marineland Florida                  67  29.66934  -81.212670\n",
              "1  Dolphin Research Center                  67  24.76794  -80.944550\n",
              "2         SeaWorld Orlando                  67  28.41164  -81.459106\n",
              "3       SeaWorld San Diego                  67  32.76113 -117.219980\n",
              "4     SeaWorld San Antonio                  67  29.45661  -98.699070"
            ]
          },
          "metadata": {
            "tags": []
          },
          "execution_count": 39
        }
      ]
    },
    {
      "cell_type": "code",
      "metadata": {
        "id": "N9JxoSURRsz1",
        "colab": {
          "base_uri": "https://localhost:8080/"
        },
        "outputId": "3477e6b8-4363-4b3e-ac4c-4d2e336e3cdf"
      },
      "source": [
        "#Creating a list of the locations with both lat and long\n",
        "locations = map_df[['Lat', 'Long']]\n",
        "locationlist = locations.values.tolist()\n",
        "len(locationlist)\n",
        "#Testing for the nth element in the list\n",
        "locationlist[3]"
      ],
      "execution_count": 42,
      "outputs": [
        {
          "output_type": "execute_result",
          "data": {
            "text/plain": [
              "[32.76113, -117.21998]"
            ]
          },
          "metadata": {
            "tags": []
          },
          "execution_count": 42
        }
      ]
    },
    {
      "cell_type": "code",
      "metadata": {
        "id": "A_WO1SDgT3DS",
        "colab": {
          "base_uri": "https://localhost:8080/",
          "height": 831
        },
        "outputId": "7de4d204-b3c7-43d8-ce7f-46557a527dd3"
      },
      "source": [
        "#Plotting on the map the location of all known cetaceans in the dataset\n",
        "\n",
        "map = folium.Map(location=[39.60381, -105.70236], zoom_start=4)\n",
        "for point in range(0, len(map_df)):\n",
        "    folium.Marker(locationlist[point], popup=map_df['currently'][point]).add_to(map)\n",
        "map"
      ],
      "execution_count": 43,
      "outputs": [
        {
          "output_type": "execute_result",
          "data": {
            "text/html": [
              "<div style=\"width:100%;\"><div style=\"position:relative;width:100%;height:0;padding-bottom:60%;\"><span style=\"color:#565656\">Make this Notebook Trusted to load map: File -> Trust Notebook</span><iframe src=\"about:blank\" style=\"position:absolute;width:100%;height:100%;left:0;top:0;border:none !important;\" data-html=%3C%21DOCTYPE%20html%3E%0A%3Chead%3E%20%20%20%20%0A%20%20%20%20%3Cmeta%20http-equiv%3D%22content-type%22%20content%3D%22text/html%3B%20charset%3DUTF-8%22%20/%3E%0A%20%20%20%20%3Cscript%3EL_PREFER_CANVAS%3Dfalse%3B%20L_NO_TOUCH%3Dfalse%3B%20L_DISABLE_3D%3Dfalse%3B%3C/script%3E%0A%20%20%20%20%3Cscript%20src%3D%22https%3A//cdn.jsdelivr.net/npm/leaflet%401.4.0/dist/leaflet.js%22%3E%3C/script%3E%0A%20%20%20%20%3Cscript%20src%3D%22https%3A//code.jquery.com/jquery-1.12.4.min.js%22%3E%3C/script%3E%0A%20%20%20%20%3Cscript%20src%3D%22https%3A//maxcdn.bootstrapcdn.com/bootstrap/3.2.0/js/bootstrap.min.js%22%3E%3C/script%3E%0A%20%20%20%20%3Cscript%20src%3D%22https%3A//cdnjs.cloudflare.com/ajax/libs/Leaflet.awesome-markers/2.0.2/leaflet.awesome-markers.js%22%3E%3C/script%3E%0A%20%20%20%20%3Clink%20rel%3D%22stylesheet%22%20href%3D%22https%3A//cdn.jsdelivr.net/npm/leaflet%401.4.0/dist/leaflet.css%22/%3E%0A%20%20%20%20%3Clink%20rel%3D%22stylesheet%22%20href%3D%22https%3A//maxcdn.bootstrapcdn.com/bootstrap/3.2.0/css/bootstrap.min.css%22/%3E%0A%20%20%20%20%3Clink%20rel%3D%22stylesheet%22%20href%3D%22https%3A//maxcdn.bootstrapcdn.com/bootstrap/3.2.0/css/bootstrap-theme.min.css%22/%3E%0A%20%20%20%20%3Clink%20rel%3D%22stylesheet%22%20href%3D%22https%3A//maxcdn.bootstrapcdn.com/font-awesome/4.6.3/css/font-awesome.min.css%22/%3E%0A%20%20%20%20%3Clink%20rel%3D%22stylesheet%22%20href%3D%22https%3A//cdnjs.cloudflare.com/ajax/libs/Leaflet.awesome-markers/2.0.2/leaflet.awesome-markers.css%22/%3E%0A%20%20%20%20%3Clink%20rel%3D%22stylesheet%22%20href%3D%22https%3A//rawcdn.githack.com/python-visualization/folium/master/folium/templates/leaflet.awesome.rotate.css%22/%3E%0A%20%20%20%20%3Cstyle%3Ehtml%2C%20body%20%7Bwidth%3A%20100%25%3Bheight%3A%20100%25%3Bmargin%3A%200%3Bpadding%3A%200%3B%7D%3C/style%3E%0A%20%20%20%20%3Cstyle%3E%23map%20%7Bposition%3Aabsolute%3Btop%3A0%3Bbottom%3A0%3Bright%3A0%3Bleft%3A0%3B%7D%3C/style%3E%0A%20%20%20%20%0A%20%20%20%20%3Cmeta%20name%3D%22viewport%22%20content%3D%22width%3Ddevice-width%2C%0A%20%20%20%20%20%20%20%20initial-scale%3D1.0%2C%20maximum-scale%3D1.0%2C%20user-scalable%3Dno%22%20/%3E%0A%20%20%20%20%3Cstyle%3E%23map_e862da06b8af4f4e9dd59044783c2a2a%20%7B%0A%20%20%20%20%20%20%20%20position%3A%20relative%3B%0A%20%20%20%20%20%20%20%20width%3A%20100.0%25%3B%0A%20%20%20%20%20%20%20%20height%3A%20100.0%25%3B%0A%20%20%20%20%20%20%20%20left%3A%200.0%25%3B%0A%20%20%20%20%20%20%20%20top%3A%200.0%25%3B%0A%20%20%20%20%20%20%20%20%7D%0A%20%20%20%20%3C/style%3E%0A%3C/head%3E%0A%3Cbody%3E%20%20%20%20%0A%20%20%20%20%0A%20%20%20%20%3Cdiv%20class%3D%22folium-map%22%20id%3D%22map_e862da06b8af4f4e9dd59044783c2a2a%22%20%3E%3C/div%3E%0A%3C/body%3E%0A%3Cscript%3E%20%20%20%20%0A%20%20%20%20%0A%20%20%20%20%0A%20%20%20%20%20%20%20%20var%20bounds%20%3D%20null%3B%0A%20%20%20%20%0A%0A%20%20%20%20var%20map_e862da06b8af4f4e9dd59044783c2a2a%20%3D%20L.map%28%0A%20%20%20%20%20%20%20%20%27map_e862da06b8af4f4e9dd59044783c2a2a%27%2C%20%7B%0A%20%20%20%20%20%20%20%20center%3A%20%5B39.60381%2C%20-105.70236%5D%2C%0A%20%20%20%20%20%20%20%20zoom%3A%204%2C%0A%20%20%20%20%20%20%20%20maxBounds%3A%20bounds%2C%0A%20%20%20%20%20%20%20%20layers%3A%20%5B%5D%2C%0A%20%20%20%20%20%20%20%20worldCopyJump%3A%20false%2C%0A%20%20%20%20%20%20%20%20crs%3A%20L.CRS.EPSG3857%2C%0A%20%20%20%20%20%20%20%20zoomControl%3A%20true%2C%0A%20%20%20%20%20%20%20%20%7D%29%3B%0A%0A%0A%20%20%20%20%0A%20%20%20%20var%20tile_layer_88e85754fde6486f9b28583132d2d07d%20%3D%20L.tileLayer%28%0A%20%20%20%20%20%20%20%20%27https%3A//%7Bs%7D.tile.openstreetmap.org/%7Bz%7D/%7Bx%7D/%7By%7D.png%27%2C%0A%20%20%20%20%20%20%20%20%7B%0A%20%20%20%20%20%20%20%20%22attribution%22%3A%20null%2C%0A%20%20%20%20%20%20%20%20%22detectRetina%22%3A%20false%2C%0A%20%20%20%20%20%20%20%20%22maxNativeZoom%22%3A%2018%2C%0A%20%20%20%20%20%20%20%20%22maxZoom%22%3A%2018%2C%0A%20%20%20%20%20%20%20%20%22minZoom%22%3A%200%2C%0A%20%20%20%20%20%20%20%20%22noWrap%22%3A%20false%2C%0A%20%20%20%20%20%20%20%20%22opacity%22%3A%201%2C%0A%20%20%20%20%20%20%20%20%22subdomains%22%3A%20%22abc%22%2C%0A%20%20%20%20%20%20%20%20%22tms%22%3A%20false%0A%7D%29.addTo%28map_e862da06b8af4f4e9dd59044783c2a2a%29%3B%0A%20%20%20%20%0A%20%20%20%20%20%20%20%20var%20marker_4f9c4ccc5d9546aab5032fdb8de4bee7%20%3D%20L.marker%28%0A%20%20%20%20%20%20%20%20%20%20%20%20%5B29.669340000000002%2C%20-81.21266999999999%5D%2C%0A%20%20%20%20%20%20%20%20%20%20%20%20%7B%0A%20%20%20%20%20%20%20%20%20%20%20%20%20%20%20%20icon%3A%20new%20L.Icon.Default%28%29%2C%0A%20%20%20%20%20%20%20%20%20%20%20%20%20%20%20%20%7D%0A%20%20%20%20%20%20%20%20%20%20%20%20%29.addTo%28map_e862da06b8af4f4e9dd59044783c2a2a%29%3B%0A%20%20%20%20%20%20%20%20%0A%20%20%20%20%0A%20%20%20%20%20%20%20%20%20%20%20%20var%20popup_1cb1406b4c8c4cefac94e4bb7dbb81a3%20%3D%20L.popup%28%7BmaxWidth%3A%20%27100%25%27%0A%20%20%20%20%20%20%20%20%20%20%20%20%0A%20%20%20%20%20%20%20%20%20%20%20%20%7D%29%3B%0A%0A%20%20%20%20%20%20%20%20%20%20%20%20%0A%20%20%20%20%20%20%20%20%20%20%20%20%20%20%20%20var%20html_cf840f6e9d4241738482794fad129e6e%20%3D%20%24%28%60%3Cdiv%20id%3D%22html_cf840f6e9d4241738482794fad129e6e%22%20style%3D%22width%3A%20100.0%25%3B%20height%3A%20100.0%25%3B%22%3EMarineland%20Florida%3C/div%3E%60%29%5B0%5D%3B%0A%20%20%20%20%20%20%20%20%20%20%20%20%20%20%20%20popup_1cb1406b4c8c4cefac94e4bb7dbb81a3.setContent%28html_cf840f6e9d4241738482794fad129e6e%29%3B%0A%20%20%20%20%20%20%20%20%20%20%20%20%0A%0A%20%20%20%20%20%20%20%20%20%20%20%20marker_4f9c4ccc5d9546aab5032fdb8de4bee7.bindPopup%28popup_1cb1406b4c8c4cefac94e4bb7dbb81a3%29%0A%20%20%20%20%20%20%20%20%20%20%20%20%3B%0A%0A%20%20%20%20%20%20%20%20%20%20%20%20%0A%20%20%20%20%20%20%20%20%0A%20%20%20%20%0A%20%20%20%20%20%20%20%20var%20marker_053cb03479684248a16f98f5d8872fab%20%3D%20L.marker%28%0A%20%20%20%20%20%20%20%20%20%20%20%20%5B24.76794%2C%20-80.94455%5D%2C%0A%20%20%20%20%20%20%20%20%20%20%20%20%7B%0A%20%20%20%20%20%20%20%20%20%20%20%20%20%20%20%20icon%3A%20new%20L.Icon.Default%28%29%2C%0A%20%20%20%20%20%20%20%20%20%20%20%20%20%20%20%20%7D%0A%20%20%20%20%20%20%20%20%20%20%20%20%29.addTo%28map_e862da06b8af4f4e9dd59044783c2a2a%29%3B%0A%20%20%20%20%20%20%20%20%0A%20%20%20%20%0A%20%20%20%20%20%20%20%20%20%20%20%20var%20popup_3f657464657a491f9dd640accbb82536%20%3D%20L.popup%28%7BmaxWidth%3A%20%27100%25%27%0A%20%20%20%20%20%20%20%20%20%20%20%20%0A%20%20%20%20%20%20%20%20%20%20%20%20%7D%29%3B%0A%0A%20%20%20%20%20%20%20%20%20%20%20%20%0A%20%20%20%20%20%20%20%20%20%20%20%20%20%20%20%20var%20html_2ee389e57a80465c8c083e1f44ecbec2%20%3D%20%24%28%60%3Cdiv%20id%3D%22html_2ee389e57a80465c8c083e1f44ecbec2%22%20style%3D%22width%3A%20100.0%25%3B%20height%3A%20100.0%25%3B%22%3EDolphin%20Research%20Center%3C/div%3E%60%29%5B0%5D%3B%0A%20%20%20%20%20%20%20%20%20%20%20%20%20%20%20%20popup_3f657464657a491f9dd640accbb82536.setContent%28html_2ee389e57a80465c8c083e1f44ecbec2%29%3B%0A%20%20%20%20%20%20%20%20%20%20%20%20%0A%0A%20%20%20%20%20%20%20%20%20%20%20%20marker_053cb03479684248a16f98f5d8872fab.bindPopup%28popup_3f657464657a491f9dd640accbb82536%29%0A%20%20%20%20%20%20%20%20%20%20%20%20%3B%0A%0A%20%20%20%20%20%20%20%20%20%20%20%20%0A%20%20%20%20%20%20%20%20%0A%20%20%20%20%0A%20%20%20%20%20%20%20%20var%20marker_cefe20f0a28d4c1fbf7aabbd20b0c4e5%20%3D%20L.marker%28%0A%20%20%20%20%20%20%20%20%20%20%20%20%5B28.411640000000002%2C%20-81.459106%5D%2C%0A%20%20%20%20%20%20%20%20%20%20%20%20%7B%0A%20%20%20%20%20%20%20%20%20%20%20%20%20%20%20%20icon%3A%20new%20L.Icon.Default%28%29%2C%0A%20%20%20%20%20%20%20%20%20%20%20%20%20%20%20%20%7D%0A%20%20%20%20%20%20%20%20%20%20%20%20%29.addTo%28map_e862da06b8af4f4e9dd59044783c2a2a%29%3B%0A%20%20%20%20%20%20%20%20%0A%20%20%20%20%0A%20%20%20%20%20%20%20%20%20%20%20%20var%20popup_9f5c2cb36a7041bd993296b50dcae0fa%20%3D%20L.popup%28%7BmaxWidth%3A%20%27100%25%27%0A%20%20%20%20%20%20%20%20%20%20%20%20%0A%20%20%20%20%20%20%20%20%20%20%20%20%7D%29%3B%0A%0A%20%20%20%20%20%20%20%20%20%20%20%20%0A%20%20%20%20%20%20%20%20%20%20%20%20%20%20%20%20var%20html_9fcff86383ec4bae8ba89dcdbaec4743%20%3D%20%24%28%60%3Cdiv%20id%3D%22html_9fcff86383ec4bae8ba89dcdbaec4743%22%20style%3D%22width%3A%20100.0%25%3B%20height%3A%20100.0%25%3B%22%3ESeaWorld%20Orlando%3C/div%3E%60%29%5B0%5D%3B%0A%20%20%20%20%20%20%20%20%20%20%20%20%20%20%20%20popup_9f5c2cb36a7041bd993296b50dcae0fa.setContent%28html_9fcff86383ec4bae8ba89dcdbaec4743%29%3B%0A%20%20%20%20%20%20%20%20%20%20%20%20%0A%0A%20%20%20%20%20%20%20%20%20%20%20%20marker_cefe20f0a28d4c1fbf7aabbd20b0c4e5.bindPopup%28popup_9f5c2cb36a7041bd993296b50dcae0fa%29%0A%20%20%20%20%20%20%20%20%20%20%20%20%3B%0A%0A%20%20%20%20%20%20%20%20%20%20%20%20%0A%20%20%20%20%20%20%20%20%0A%20%20%20%20%0A%20%20%20%20%20%20%20%20var%20marker_1c9b2c1dbb1041598e182e2ac3b10cb2%20%3D%20L.marker%28%0A%20%20%20%20%20%20%20%20%20%20%20%20%5B32.76113%2C%20-117.21998%5D%2C%0A%20%20%20%20%20%20%20%20%20%20%20%20%7B%0A%20%20%20%20%20%20%20%20%20%20%20%20%20%20%20%20icon%3A%20new%20L.Icon.Default%28%29%2C%0A%20%20%20%20%20%20%20%20%20%20%20%20%20%20%20%20%7D%0A%20%20%20%20%20%20%20%20%20%20%20%20%29.addTo%28map_e862da06b8af4f4e9dd59044783c2a2a%29%3B%0A%20%20%20%20%20%20%20%20%0A%20%20%20%20%0A%20%20%20%20%20%20%20%20%20%20%20%20var%20popup_7d8f121d54c743d0bcabceb153c7e8b9%20%3D%20L.popup%28%7BmaxWidth%3A%20%27100%25%27%0A%20%20%20%20%20%20%20%20%20%20%20%20%0A%20%20%20%20%20%20%20%20%20%20%20%20%7D%29%3B%0A%0A%20%20%20%20%20%20%20%20%20%20%20%20%0A%20%20%20%20%20%20%20%20%20%20%20%20%20%20%20%20var%20html_b92450963989492db5de9dcaab00782f%20%3D%20%24%28%60%3Cdiv%20id%3D%22html_b92450963989492db5de9dcaab00782f%22%20style%3D%22width%3A%20100.0%25%3B%20height%3A%20100.0%25%3B%22%3ESeaWorld%20San%20Diego%3C/div%3E%60%29%5B0%5D%3B%0A%20%20%20%20%20%20%20%20%20%20%20%20%20%20%20%20popup_7d8f121d54c743d0bcabceb153c7e8b9.setContent%28html_b92450963989492db5de9dcaab00782f%29%3B%0A%20%20%20%20%20%20%20%20%20%20%20%20%0A%0A%20%20%20%20%20%20%20%20%20%20%20%20marker_1c9b2c1dbb1041598e182e2ac3b10cb2.bindPopup%28popup_7d8f121d54c743d0bcabceb153c7e8b9%29%0A%20%20%20%20%20%20%20%20%20%20%20%20%3B%0A%0A%20%20%20%20%20%20%20%20%20%20%20%20%0A%20%20%20%20%20%20%20%20%0A%20%20%20%20%0A%20%20%20%20%20%20%20%20var%20marker_810c4ec0961d4c4c94dc4a2b934e0e25%20%3D%20L.marker%28%0A%20%20%20%20%20%20%20%20%20%20%20%20%5B29.456609999999998%2C%20-98.69906999999999%5D%2C%0A%20%20%20%20%20%20%20%20%20%20%20%20%7B%0A%20%20%20%20%20%20%20%20%20%20%20%20%20%20%20%20icon%3A%20new%20L.Icon.Default%28%29%2C%0A%20%20%20%20%20%20%20%20%20%20%20%20%20%20%20%20%7D%0A%20%20%20%20%20%20%20%20%20%20%20%20%29.addTo%28map_e862da06b8af4f4e9dd59044783c2a2a%29%3B%0A%20%20%20%20%20%20%20%20%0A%20%20%20%20%0A%20%20%20%20%20%20%20%20%20%20%20%20var%20popup_93129acae12b4096995ec7e9cec47632%20%3D%20L.popup%28%7BmaxWidth%3A%20%27100%25%27%0A%20%20%20%20%20%20%20%20%20%20%20%20%0A%20%20%20%20%20%20%20%20%20%20%20%20%7D%29%3B%0A%0A%20%20%20%20%20%20%20%20%20%20%20%20%0A%20%20%20%20%20%20%20%20%20%20%20%20%20%20%20%20var%20html_77d6c45741c6492e906dc0028bf1bd7f%20%3D%20%24%28%60%3Cdiv%20id%3D%22html_77d6c45741c6492e906dc0028bf1bd7f%22%20style%3D%22width%3A%20100.0%25%3B%20height%3A%20100.0%25%3B%22%3ESeaWorld%20San%20Antonio%3C/div%3E%60%29%5B0%5D%3B%0A%20%20%20%20%20%20%20%20%20%20%20%20%20%20%20%20popup_93129acae12b4096995ec7e9cec47632.setContent%28html_77d6c45741c6492e906dc0028bf1bd7f%29%3B%0A%20%20%20%20%20%20%20%20%20%20%20%20%0A%0A%20%20%20%20%20%20%20%20%20%20%20%20marker_810c4ec0961d4c4c94dc4a2b934e0e25.bindPopup%28popup_93129acae12b4096995ec7e9cec47632%29%0A%20%20%20%20%20%20%20%20%20%20%20%20%3B%0A%0A%20%20%20%20%20%20%20%20%20%20%20%20%0A%20%20%20%20%20%20%20%20%0A%20%20%20%20%0A%20%20%20%20%20%20%20%20var%20marker_266e5653409448a09863c5d6bb132822%20%3D%20L.marker%28%0A%20%20%20%20%20%20%20%20%20%20%20%20%5B38.658359999999995%2C%20-76.531631%5D%2C%0A%20%20%20%20%20%20%20%20%20%20%20%20%7B%0A%20%20%20%20%20%20%20%20%20%20%20%20%20%20%20%20icon%3A%20new%20L.Icon.Default%28%29%2C%0A%20%20%20%20%20%20%20%20%20%20%20%20%20%20%20%20%7D%0A%20%20%20%20%20%20%20%20%20%20%20%20%29.addTo%28map_e862da06b8af4f4e9dd59044783c2a2a%29%3B%0A%20%20%20%20%20%20%20%20%0A%20%20%20%20%0A%20%20%20%20%20%20%20%20%20%20%20%20var%20popup_a7e58db72d22462bbd85f42425dba41c%20%3D%20L.popup%28%7BmaxWidth%3A%20%27100%25%27%0A%20%20%20%20%20%20%20%20%20%20%20%20%0A%20%20%20%20%20%20%20%20%20%20%20%20%7D%29%3B%0A%0A%20%20%20%20%20%20%20%20%20%20%20%20%0A%20%20%20%20%20%20%20%20%20%20%20%20%20%20%20%20var%20html_9eefac4c5daa4e98a759eb9fed971d9c%20%3D%20%24%28%60%3Cdiv%20id%3D%22html_9eefac4c5daa4e98a759eb9fed971d9c%22%20style%3D%22width%3A%20100.0%25%3B%20height%3A%20100.0%25%3B%22%3EU.S.%20Navy%3C/div%3E%60%29%5B0%5D%3B%0A%20%20%20%20%20%20%20%20%20%20%20%20%20%20%20%20popup_a7e58db72d22462bbd85f42425dba41c.setContent%28html_9eefac4c5daa4e98a759eb9fed971d9c%29%3B%0A%20%20%20%20%20%20%20%20%20%20%20%20%0A%0A%20%20%20%20%20%20%20%20%20%20%20%20marker_266e5653409448a09863c5d6bb132822.bindPopup%28popup_a7e58db72d22462bbd85f42425dba41c%29%0A%20%20%20%20%20%20%20%20%20%20%20%20%3B%0A%0A%20%20%20%20%20%20%20%20%20%20%20%20%0A%20%20%20%20%20%20%20%20%0A%20%20%20%20%0A%20%20%20%20%20%20%20%20var%20marker_871dce39ca1f4164b9a162db285a9a53%20%3D%20L.marker%28%0A%20%20%20%20%20%20%20%20%20%20%20%20%5B26.102420000000002%2C%20-78.66996999999999%5D%2C%0A%20%20%20%20%20%20%20%20%20%20%20%20%7B%0A%20%20%20%20%20%20%20%20%20%20%20%20%20%20%20%20icon%3A%20new%20L.Icon.Default%28%29%2C%0A%20%20%20%20%20%20%20%20%20%20%20%20%20%20%20%20%7D%0A%20%20%20%20%20%20%20%20%20%20%20%20%29.addTo%28map_e862da06b8af4f4e9dd59044783c2a2a%29%3B%0A%20%20%20%20%20%20%20%20%0A%20%20%20%20%0A%20%20%20%20%20%20%20%20%20%20%20%20var%20popup_164fef59578e4128a22086d26aa60490%20%3D%20L.popup%28%7BmaxWidth%3A%20%27100%25%27%0A%20%20%20%20%20%20%20%20%20%20%20%20%0A%20%20%20%20%20%20%20%20%20%20%20%20%7D%29%3B%0A%0A%20%20%20%20%20%20%20%20%20%20%20%20%0A%20%20%20%20%20%20%20%20%20%20%20%20%20%20%20%20var%20html_26e5aac3db794c80a9053fb4f6979f25%20%3D%20%24%28%60%3Cdiv%20id%3D%22html_26e5aac3db794c80a9053fb4f6979f25%22%20style%3D%22width%3A%20100.0%25%3B%20height%3A%20100.0%25%3B%22%3ETheater%20of%20the%20Sea%3C/div%3E%60%29%5B0%5D%3B%0A%20%20%20%20%20%20%20%20%20%20%20%20%20%20%20%20popup_164fef59578e4128a22086d26aa60490.setContent%28html_26e5aac3db794c80a9053fb4f6979f25%29%3B%0A%20%20%20%20%20%20%20%20%20%20%20%20%0A%0A%20%20%20%20%20%20%20%20%20%20%20%20marker_871dce39ca1f4164b9a162db285a9a53.bindPopup%28popup_164fef59578e4128a22086d26aa60490%29%0A%20%20%20%20%20%20%20%20%20%20%20%20%3B%0A%0A%20%20%20%20%20%20%20%20%20%20%20%20%0A%20%20%20%20%20%20%20%20%0A%20%20%20%20%0A%20%20%20%20%20%20%20%20var%20marker_6d14aae683cb4a069b4359127aa29395%20%3D%20L.marker%28%0A%20%20%20%20%20%20%20%20%20%20%20%20%5B28.405640000000002%2C%20-81.46092%5D%2C%0A%20%20%20%20%20%20%20%20%20%20%20%20%7B%0A%20%20%20%20%20%20%20%20%20%20%20%20%20%20%20%20icon%3A%20new%20L.Icon.Default%28%29%2C%0A%20%20%20%20%20%20%20%20%20%20%20%20%20%20%20%20%7D%0A%20%20%20%20%20%20%20%20%20%20%20%20%29.addTo%28map_e862da06b8af4f4e9dd59044783c2a2a%29%3B%0A%20%20%20%20%20%20%20%20%0A%20%20%20%20%0A%20%20%20%20%20%20%20%20%20%20%20%20var%20popup_eb1e2280472e4abca671f1b61a7dbf7e%20%3D%20L.popup%28%7BmaxWidth%3A%20%27100%25%27%0A%20%20%20%20%20%20%20%20%20%20%20%20%0A%20%20%20%20%20%20%20%20%20%20%20%20%7D%29%3B%0A%0A%20%20%20%20%20%20%20%20%20%20%20%20%0A%20%20%20%20%20%20%20%20%20%20%20%20%20%20%20%20var%20html_813f1a17cf4c4b0a86c2152d54597bb4%20%3D%20%24%28%60%3Cdiv%20id%3D%22html_813f1a17cf4c4b0a86c2152d54597bb4%22%20style%3D%22width%3A%20100.0%25%3B%20height%3A%20100.0%25%3B%22%3EDiscovery%20Cove%3C/div%3E%60%29%5B0%5D%3B%0A%20%20%20%20%20%20%20%20%20%20%20%20%20%20%20%20popup_eb1e2280472e4abca671f1b61a7dbf7e.setContent%28html_813f1a17cf4c4b0a86c2152d54597bb4%29%3B%0A%20%20%20%20%20%20%20%20%20%20%20%20%0A%0A%20%20%20%20%20%20%20%20%20%20%20%20marker_6d14aae683cb4a069b4359127aa29395.bindPopup%28popup_eb1e2280472e4abca671f1b61a7dbf7e%29%0A%20%20%20%20%20%20%20%20%20%20%20%20%3B%0A%0A%20%20%20%20%20%20%20%20%20%20%20%20%0A%20%20%20%20%20%20%20%20%0A%20%20%20%20%0A%20%20%20%20%20%20%20%20var%20marker_4b17e43c243345bfa561e5753025904f%20%3D%20L.marker%28%0A%20%20%20%20%20%20%20%20%20%20%20%20%5B41.83303%2C%20-87.83376%5D%2C%0A%20%20%20%20%20%20%20%20%20%20%20%20%7B%0A%20%20%20%20%20%20%20%20%20%20%20%20%20%20%20%20icon%3A%20new%20L.Icon.Default%28%29%2C%0A%20%20%20%20%20%20%20%20%20%20%20%20%20%20%20%20%7D%0A%20%20%20%20%20%20%20%20%20%20%20%20%29.addTo%28map_e862da06b8af4f4e9dd59044783c2a2a%29%3B%0A%20%20%20%20%20%20%20%20%0A%20%20%20%20%0A%20%20%20%20%20%20%20%20%20%20%20%20var%20popup_0e1cdc409e6c4056977caeeb4777288b%20%3D%20L.popup%28%7BmaxWidth%3A%20%27100%25%27%0A%20%20%20%20%20%20%20%20%20%20%20%20%0A%20%20%20%20%20%20%20%20%20%20%20%20%7D%29%3B%0A%0A%20%20%20%20%20%20%20%20%20%20%20%20%0A%20%20%20%20%20%20%20%20%20%20%20%20%20%20%20%20var%20html_0b260257b9e44d48a6ec558e2618711a%20%3D%20%24%28%60%3Cdiv%20id%3D%22html_0b260257b9e44d48a6ec558e2618711a%22%20style%3D%22width%3A%20100.0%25%3B%20height%3A%20100.0%25%3B%22%3EBrookfield%20Zoo%3C/div%3E%60%29%5B0%5D%3B%0A%20%20%20%20%20%20%20%20%20%20%20%20%20%20%20%20popup_0e1cdc409e6c4056977caeeb4777288b.setContent%28html_0b260257b9e44d48a6ec558e2618711a%29%3B%0A%20%20%20%20%20%20%20%20%20%20%20%20%0A%0A%20%20%20%20%20%20%20%20%20%20%20%20marker_4b17e43c243345bfa561e5753025904f.bindPopup%28popup_0e1cdc409e6c4056977caeeb4777288b%29%0A%20%20%20%20%20%20%20%20%20%20%20%20%3B%0A%0A%20%20%20%20%20%20%20%20%20%20%20%20%0A%20%20%20%20%20%20%20%20%0A%20%20%20%20%0A%20%20%20%20%20%20%20%20var%20marker_5eb8220840fc461fb68d17a4f6ae296c%20%3D%20L.marker%28%0A%20%20%20%20%20%20%20%20%20%20%20%20%5B21.27226%2C%20-157.77313%5D%2C%0A%20%20%20%20%20%20%20%20%20%20%20%20%7B%0A%20%20%20%20%20%20%20%20%20%20%20%20%20%20%20%20icon%3A%20new%20L.Icon.Default%28%29%2C%0A%20%20%20%20%20%20%20%20%20%20%20%20%20%20%20%20%7D%0A%20%20%20%20%20%20%20%20%20%20%20%20%29.addTo%28map_e862da06b8af4f4e9dd59044783c2a2a%29%3B%0A%20%20%20%20%20%20%20%20%0A%20%20%20%20%0A%20%20%20%20%20%20%20%20%20%20%20%20var%20popup_2a41d87ccb6546059fbb75a07df35263%20%3D%20L.popup%28%7BmaxWidth%3A%20%27100%25%27%0A%20%20%20%20%20%20%20%20%20%20%20%20%0A%20%20%20%20%20%20%20%20%20%20%20%20%7D%29%3B%0A%0A%20%20%20%20%20%20%20%20%20%20%20%20%0A%20%20%20%20%20%20%20%20%20%20%20%20%20%20%20%20var%20html_7128eea2392a4e83a96a8b2b41c00d86%20%3D%20%24%28%60%3Cdiv%20id%3D%22html_7128eea2392a4e83a96a8b2b41c00d86%22%20style%3D%22width%3A%20100.0%25%3B%20height%3A%20100.0%25%3B%22%3EDolphin%20Quest%20Oahu%3C/div%3E%60%29%5B0%5D%3B%0A%20%20%20%20%20%20%20%20%20%20%20%20%20%20%20%20popup_2a41d87ccb6546059fbb75a07df35263.setContent%28html_7128eea2392a4e83a96a8b2b41c00d86%29%3B%0A%20%20%20%20%20%20%20%20%20%20%20%20%0A%0A%20%20%20%20%20%20%20%20%20%20%20%20marker_5eb8220840fc461fb68d17a4f6ae296c.bindPopup%28popup_2a41d87ccb6546059fbb75a07df35263%29%0A%20%20%20%20%20%20%20%20%20%20%20%20%3B%0A%0A%20%20%20%20%20%20%20%20%20%20%20%20%0A%20%20%20%20%20%20%20%20%0A%20%20%20%20%0A%20%20%20%20%20%20%20%20var%20marker_8728ebaa9dac489d9f2a0ca903eb8f60%20%3D%20L.marker%28%0A%20%20%20%20%20%20%20%20%20%20%20%20%5B28.37515%2C%20-81.55009%5D%2C%0A%20%20%20%20%20%20%20%20%20%20%20%20%7B%0A%20%20%20%20%20%20%20%20%20%20%20%20%20%20%20%20icon%3A%20new%20L.Icon.Default%28%29%2C%0A%20%20%20%20%20%20%20%20%20%20%20%20%20%20%20%20%7D%0A%20%20%20%20%20%20%20%20%20%20%20%20%29.addTo%28map_e862da06b8af4f4e9dd59044783c2a2a%29%3B%0A%20%20%20%20%20%20%20%20%0A%20%20%20%20%0A%20%20%20%20%20%20%20%20%20%20%20%20var%20popup_f845c1a73bbf42bda0ff5fe5a565565b%20%3D%20L.popup%28%7BmaxWidth%3A%20%27100%25%27%0A%20%20%20%20%20%20%20%20%20%20%20%20%0A%20%20%20%20%20%20%20%20%20%20%20%20%7D%29%3B%0A%0A%20%20%20%20%20%20%20%20%20%20%20%20%0A%20%20%20%20%20%20%20%20%20%20%20%20%20%20%20%20var%20html_772f0e13185440e998b02d5e89c0bf7c%20%3D%20%24%28%60%3Cdiv%20id%3D%22html_772f0e13185440e998b02d5e89c0bf7c%22%20style%3D%22width%3A%20100.0%25%3B%20height%3A%20100.0%25%3B%22%3EEPCOT%20The%20Seas%3C/div%3E%60%29%5B0%5D%3B%0A%20%20%20%20%20%20%20%20%20%20%20%20%20%20%20%20popup_f845c1a73bbf42bda0ff5fe5a565565b.setContent%28html_772f0e13185440e998b02d5e89c0bf7c%29%3B%0A%20%20%20%20%20%20%20%20%20%20%20%20%0A%0A%20%20%20%20%20%20%20%20%20%20%20%20marker_8728ebaa9dac489d9f2a0ca903eb8f60.bindPopup%28popup_f845c1a73bbf42bda0ff5fe5a565565b%29%0A%20%20%20%20%20%20%20%20%20%20%20%20%3B%0A%0A%20%20%20%20%20%20%20%20%20%20%20%20%0A%20%20%20%20%20%20%20%20%0A%20%20%20%20%0A%20%20%20%20%20%20%20%20var%20marker_9ba2b20212d2413da7ae342f9d3ff0c1%20%3D%20L.marker%28%0A%20%20%20%20%20%20%20%20%20%20%20%20%5B27.81397%2C%20-97.39131%5D%2C%0A%20%20%20%20%20%20%20%20%20%20%20%20%7B%0A%20%20%20%20%20%20%20%20%20%20%20%20%20%20%20%20icon%3A%20new%20L.Icon.Default%28%29%2C%0A%20%20%20%20%20%20%20%20%20%20%20%20%20%20%20%20%7D%0A%20%20%20%20%20%20%20%20%20%20%20%20%29.addTo%28map_e862da06b8af4f4e9dd59044783c2a2a%29%3B%0A%20%20%20%20%20%20%20%20%0A%20%20%20%20%0A%20%20%20%20%20%20%20%20%20%20%20%20var%20popup_10fd8e9f42284be6bc91c26709a1d730%20%3D%20L.popup%28%7BmaxWidth%3A%20%27100%25%27%0A%20%20%20%20%20%20%20%20%20%20%20%20%0A%20%20%20%20%20%20%20%20%20%20%20%20%7D%29%3B%0A%0A%20%20%20%20%20%20%20%20%20%20%20%20%0A%20%20%20%20%20%20%20%20%20%20%20%20%20%20%20%20var%20html_7d059920143a48768b27d0deb05168a8%20%3D%20%24%28%60%3Cdiv%20id%3D%22html_7d059920143a48768b27d0deb05168a8%22%20style%3D%22width%3A%20100.0%25%3B%20height%3A%20100.0%25%3B%22%3ETexas%20State%20Aquarium%3C/div%3E%60%29%5B0%5D%3B%0A%20%20%20%20%20%20%20%20%20%20%20%20%20%20%20%20popup_10fd8e9f42284be6bc91c26709a1d730.setContent%28html_7d059920143a48768b27d0deb05168a8%29%3B%0A%20%20%20%20%20%20%20%20%20%20%20%20%0A%0A%20%20%20%20%20%20%20%20%20%20%20%20marker_9ba2b20212d2413da7ae342f9d3ff0c1.bindPopup%28popup_10fd8e9f42284be6bc91c26709a1d730%29%0A%20%20%20%20%20%20%20%20%20%20%20%20%3B%0A%0A%20%20%20%20%20%20%20%20%20%20%20%20%0A%20%20%20%20%20%20%20%20%0A%20%20%20%20%0A%20%20%20%20%20%20%20%20var%20marker_8416adcbcc1848e181ca42bd8ed9ab6f%20%3D%20L.marker%28%0A%20%20%20%20%20%20%20%20%20%20%20%20%5B41.8678%2C%20-87.61354%5D%2C%0A%20%20%20%20%20%20%20%20%20%20%20%20%7B%0A%20%20%20%20%20%20%20%20%20%20%20%20%20%20%20%20icon%3A%20new%20L.Icon.Default%28%29%2C%0A%20%20%20%20%20%20%20%20%20%20%20%20%20%20%20%20%7D%0A%20%20%20%20%20%20%20%20%20%20%20%20%29.addTo%28map_e862da06b8af4f4e9dd59044783c2a2a%29%3B%0A%20%20%20%20%20%20%20%20%0A%20%20%20%20%0A%20%20%20%20%20%20%20%20%20%20%20%20var%20popup_a3fcf2de01204072b2dde2ce4efb942e%20%3D%20L.popup%28%7BmaxWidth%3A%20%27100%25%27%0A%20%20%20%20%20%20%20%20%20%20%20%20%0A%20%20%20%20%20%20%20%20%20%20%20%20%7D%29%3B%0A%0A%20%20%20%20%20%20%20%20%20%20%20%20%0A%20%20%20%20%20%20%20%20%20%20%20%20%20%20%20%20var%20html_cb4375a0d68c403fbc2731e9d6300ad9%20%3D%20%24%28%60%3Cdiv%20id%3D%22html_cb4375a0d68c403fbc2731e9d6300ad9%22%20style%3D%22width%3A%20100.0%25%3B%20height%3A%20100.0%25%3B%22%3EShedd%20Aquarium%3C/div%3E%60%29%5B0%5D%3B%0A%20%20%20%20%20%20%20%20%20%20%20%20%20%20%20%20popup_a3fcf2de01204072b2dde2ce4efb942e.setContent%28html_cb4375a0d68c403fbc2731e9d6300ad9%29%3B%0A%20%20%20%20%20%20%20%20%20%20%20%20%0A%0A%20%20%20%20%20%20%20%20%20%20%20%20marker_8416adcbcc1848e181ca42bd8ed9ab6f.bindPopup%28popup_a3fcf2de01204072b2dde2ce4efb942e%29%0A%20%20%20%20%20%20%20%20%20%20%20%20%3B%0A%0A%20%20%20%20%20%20%20%20%20%20%20%20%0A%20%20%20%20%20%20%20%20%0A%20%20%20%20%0A%20%20%20%20%20%20%20%20var%20marker_3a41b9ff103745568c586d3354e72cb6%20%3D%20L.marker%28%0A%20%20%20%20%20%20%20%20%20%20%20%20%5B28.415459999999996%2C%20-81.4551%5D%2C%0A%20%20%20%20%20%20%20%20%20%20%20%20%7B%0A%20%20%20%20%20%20%20%20%20%20%20%20%20%20%20%20icon%3A%20new%20L.Icon.Default%28%29%2C%0A%20%20%20%20%20%20%20%20%20%20%20%20%20%20%20%20%7D%0A%20%20%20%20%20%20%20%20%20%20%20%20%29.addTo%28map_e862da06b8af4f4e9dd59044783c2a2a%29%3B%0A%20%20%20%20%20%20%20%20%0A%20%20%20%20%0A%20%20%20%20%20%20%20%20%20%20%20%20var%20popup_4e169e221a80473a811d5ff31308e269%20%3D%20L.popup%28%7BmaxWidth%3A%20%27100%25%27%0A%20%20%20%20%20%20%20%20%20%20%20%20%0A%20%20%20%20%20%20%20%20%20%20%20%20%7D%29%3B%0A%0A%20%20%20%20%20%20%20%20%20%20%20%20%0A%20%20%20%20%20%20%20%20%20%20%20%20%20%20%20%20var%20html_eaeddd82474f452cacb5f401ed33f91d%20%3D%20%24%28%60%3Cdiv%20id%3D%22html_eaeddd82474f452cacb5f401ed33f91d%22%20style%3D%22width%3A%20100.0%25%3B%20height%3A%20100.0%25%3B%22%3EAquatica%20Orlando%3C/div%3E%60%29%5B0%5D%3B%0A%20%20%20%20%20%20%20%20%20%20%20%20%20%20%20%20popup_4e169e221a80473a811d5ff31308e269.setContent%28html_eaeddd82474f452cacb5f401ed33f91d%29%3B%0A%20%20%20%20%20%20%20%20%20%20%20%20%0A%0A%20%20%20%20%20%20%20%20%20%20%20%20marker_3a41b9ff103745568c586d3354e72cb6.bindPopup%28popup_4e169e221a80473a811d5ff31308e269%29%0A%20%20%20%20%20%20%20%20%20%20%20%20%3B%0A%0A%20%20%20%20%20%20%20%20%20%20%20%20%0A%20%20%20%20%20%20%20%20%0A%20%20%20%20%0A%20%20%20%20%20%20%20%20var%20marker_5bc79e4bdf08436b82c58d59bc3b6a4a%20%3D%20L.marker%28%0A%20%20%20%20%20%20%20%20%20%20%20%20%5B25.11928%2C%20-80.41856%5D%2C%0A%20%20%20%20%20%20%20%20%20%20%20%20%7B%0A%20%20%20%20%20%20%20%20%20%20%20%20%20%20%20%20icon%3A%20new%20L.Icon.Default%28%29%2C%0A%20%20%20%20%20%20%20%20%20%20%20%20%20%20%20%20%7D%0A%20%20%20%20%20%20%20%20%20%20%20%20%29.addTo%28map_e862da06b8af4f4e9dd59044783c2a2a%29%3B%0A%20%20%20%20%20%20%20%20%0A%20%20%20%20%0A%20%20%20%20%20%20%20%20%20%20%20%20var%20popup_9a91c27e7afc40c69d6b4ff0c03a447c%20%3D%20L.popup%28%7BmaxWidth%3A%20%27100%25%27%0A%20%20%20%20%20%20%20%20%20%20%20%20%0A%20%20%20%20%20%20%20%20%20%20%20%20%7D%29%3B%0A%0A%20%20%20%20%20%20%20%20%20%20%20%20%0A%20%20%20%20%20%20%20%20%20%20%20%20%20%20%20%20var%20html_d10754b11cb64529bb66f2028e57ee0b%20%3D%20%24%28%60%3Cdiv%20id%3D%22html_d10754b11cb64529bb66f2028e57ee0b%22%20style%3D%22width%3A%20100.0%25%3B%20height%3A%20100.0%25%3B%22%3EDolphins%20Plus%20Oceanside%3C/div%3E%60%29%5B0%5D%3B%0A%20%20%20%20%20%20%20%20%20%20%20%20%20%20%20%20popup_9a91c27e7afc40c69d6b4ff0c03a447c.setContent%28html_d10754b11cb64529bb66f2028e57ee0b%29%3B%0A%20%20%20%20%20%20%20%20%20%20%20%20%0A%0A%20%20%20%20%20%20%20%20%20%20%20%20marker_5bc79e4bdf08436b82c58d59bc3b6a4a.bindPopup%28popup_9a91c27e7afc40c69d6b4ff0c03a447c%29%0A%20%20%20%20%20%20%20%20%20%20%20%20%3B%0A%0A%20%20%20%20%20%20%20%20%20%20%20%20%0A%20%20%20%20%20%20%20%20%0A%20%20%20%20%0A%20%20%20%20%20%20%20%20var%20marker_6d0d194ac8d848c3a064fc073026e0e4%20%3D%20L.marker%28%0A%20%20%20%20%20%20%20%20%20%20%20%20%5B38.138459999999995%2C%20-122.23321999999999%5D%2C%0A%20%20%20%20%20%20%20%20%20%20%20%20%7B%0A%20%20%20%20%20%20%20%20%20%20%20%20%20%20%20%20icon%3A%20new%20L.Icon.Default%28%29%2C%0A%20%20%20%20%20%20%20%20%20%20%20%20%20%20%20%20%7D%0A%20%20%20%20%20%20%20%20%20%20%20%20%29.addTo%28map_e862da06b8af4f4e9dd59044783c2a2a%29%3B%0A%20%20%20%20%20%20%20%20%0A%20%20%20%20%0A%20%20%20%20%20%20%20%20%20%20%20%20var%20popup_a88cd1792c584480a06489a4823327e0%20%3D%20L.popup%28%7BmaxWidth%3A%20%27100%25%27%0A%20%20%20%20%20%20%20%20%20%20%20%20%0A%20%20%20%20%20%20%20%20%20%20%20%20%7D%29%3B%0A%0A%20%20%20%20%20%20%20%20%20%20%20%20%0A%20%20%20%20%20%20%20%20%20%20%20%20%20%20%20%20var%20html_de8600d7300743dfb1f3b69b765a6ba6%20%3D%20%24%28%60%3Cdiv%20id%3D%22html_de8600d7300743dfb1f3b69b765a6ba6%22%20style%3D%22width%3A%20100.0%25%3B%20height%3A%20100.0%25%3B%22%3ESix%20Flags%20Discovery%20Kingdom%3C/div%3E%60%29%5B0%5D%3B%0A%20%20%20%20%20%20%20%20%20%20%20%20%20%20%20%20popup_a88cd1792c584480a06489a4823327e0.setContent%28html_de8600d7300743dfb1f3b69b765a6ba6%29%3B%0A%20%20%20%20%20%20%20%20%20%20%20%20%0A%0A%20%20%20%20%20%20%20%20%20%20%20%20marker_6d0d194ac8d848c3a064fc073026e0e4.bindPopup%28popup_a88cd1792c584480a06489a4823327e0%29%0A%20%20%20%20%20%20%20%20%20%20%20%20%3B%0A%0A%20%20%20%20%20%20%20%20%20%20%20%20%0A%20%20%20%20%20%20%20%20%0A%20%20%20%20%0A%20%20%20%20%20%20%20%20var%20marker_81d6ac03879a4121abec23c3463286b6%20%3D%20L.marker%28%0A%20%20%20%20%20%20%20%20%20%20%20%20%5B33.76358%2C%20-84.39459000000001%5D%2C%0A%20%20%20%20%20%20%20%20%20%20%20%20%7B%0A%20%20%20%20%20%20%20%20%20%20%20%20%20%20%20%20icon%3A%20new%20L.Icon.Default%28%29%2C%0A%20%20%20%20%20%20%20%20%20%20%20%20%20%20%20%20%7D%0A%20%20%20%20%20%20%20%20%20%20%20%20%29.addTo%28map_e862da06b8af4f4e9dd59044783c2a2a%29%3B%0A%20%20%20%20%20%20%20%20%0A%20%20%20%20%0A%20%20%20%20%20%20%20%20%20%20%20%20var%20popup_58e4f6f7cee44774b87ff641bf54a74f%20%3D%20L.popup%28%7BmaxWidth%3A%20%27100%25%27%0A%20%20%20%20%20%20%20%20%20%20%20%20%0A%20%20%20%20%20%20%20%20%20%20%20%20%7D%29%3B%0A%0A%20%20%20%20%20%20%20%20%20%20%20%20%0A%20%20%20%20%20%20%20%20%20%20%20%20%20%20%20%20var%20html_1d1606bbd2504d639f8dbecb550a2575%20%3D%20%24%28%60%3Cdiv%20id%3D%22html_1d1606bbd2504d639f8dbecb550a2575%22%20style%3D%22width%3A%20100.0%25%3B%20height%3A%20100.0%25%3B%22%3EGeorgia%20Aquarium%3C/div%3E%60%29%5B0%5D%3B%0A%20%20%20%20%20%20%20%20%20%20%20%20%20%20%20%20popup_58e4f6f7cee44774b87ff641bf54a74f.setContent%28html_1d1606bbd2504d639f8dbecb550a2575%29%3B%0A%20%20%20%20%20%20%20%20%20%20%20%20%0A%0A%20%20%20%20%20%20%20%20%20%20%20%20marker_81d6ac03879a4121abec23c3463286b6.bindPopup%28popup_58e4f6f7cee44774b87ff641bf54a74f%29%0A%20%20%20%20%20%20%20%20%20%20%20%20%3B%0A%0A%20%20%20%20%20%20%20%20%20%20%20%20%0A%20%20%20%20%20%20%20%20%0A%20%20%20%20%0A%20%20%20%20%20%20%20%20var%20marker_a8f4c6affde3426c84b947a1d3f9de74%20%3D%20L.marker%28%0A%20%20%20%20%20%20%20%20%20%20%20%20%5B30.394709999999996%2C%20-86.59288000000001%5D%2C%0A%20%20%20%20%20%20%20%20%20%20%20%20%7B%0A%20%20%20%20%20%20%20%20%20%20%20%20%20%20%20%20icon%3A%20new%20L.Icon.Default%28%29%2C%0A%20%20%20%20%20%20%20%20%20%20%20%20%20%20%20%20%7D%0A%20%20%20%20%20%20%20%20%20%20%20%20%29.addTo%28map_e862da06b8af4f4e9dd59044783c2a2a%29%3B%0A%20%20%20%20%20%20%20%20%0A%20%20%20%20%0A%20%20%20%20%20%20%20%20%20%20%20%20var%20popup_c9218ac4b4074f57ba8a493206a81a74%20%3D%20L.popup%28%7BmaxWidth%3A%20%27100%25%27%0A%20%20%20%20%20%20%20%20%20%20%20%20%0A%20%20%20%20%20%20%20%20%20%20%20%20%7D%29%3B%0A%0A%20%20%20%20%20%20%20%20%20%20%20%20%0A%20%20%20%20%20%20%20%20%20%20%20%20%20%20%20%20var%20html_3149e207db464b6f84a58fb4fd09ea29%20%3D%20%24%28%60%3Cdiv%20id%3D%22html_3149e207db464b6f84a58fb4fd09ea29%22%20style%3D%22width%3A%20100.0%25%3B%20height%3A%20100.0%25%3B%22%3EGulfarium%20Marine%20Adventure%3C/div%3E%60%29%5B0%5D%3B%0A%20%20%20%20%20%20%20%20%20%20%20%20%20%20%20%20popup_c9218ac4b4074f57ba8a493206a81a74.setContent%28html_3149e207db464b6f84a58fb4fd09ea29%29%3B%0A%20%20%20%20%20%20%20%20%20%20%20%20%0A%0A%20%20%20%20%20%20%20%20%20%20%20%20marker_a8f4c6affde3426c84b947a1d3f9de74.bindPopup%28popup_c9218ac4b4074f57ba8a493206a81a74%29%0A%20%20%20%20%20%20%20%20%20%20%20%20%3B%0A%0A%20%20%20%20%20%20%20%20%20%20%20%20%0A%20%20%20%20%20%20%20%20%0A%20%20%20%20%0A%20%20%20%20%20%20%20%20var%20marker_16c17b07ae9b41efae486f676dfa22b2%20%3D%20L.marker%28%0A%20%20%20%20%20%20%20%20%20%20%20%20%5B33.555609999999994%2C%20-111.8768%5D%2C%0A%20%20%20%20%20%20%20%20%20%20%20%20%7B%0A%20%20%20%20%20%20%20%20%20%20%20%20%20%20%20%20icon%3A%20new%20L.Icon.Default%28%29%2C%0A%20%20%20%20%20%20%20%20%20%20%20%20%20%20%20%20%7D%0A%20%20%20%20%20%20%20%20%20%20%20%20%29.addTo%28map_e862da06b8af4f4e9dd59044783c2a2a%29%3B%0A%20%20%20%20%20%20%20%20%0A%20%20%20%20%0A%20%20%20%20%20%20%20%20%20%20%20%20var%20popup_293ea71da2aa42c4b006d4586ca101cf%20%3D%20L.popup%28%7BmaxWidth%3A%20%27100%25%27%0A%20%20%20%20%20%20%20%20%20%20%20%20%0A%20%20%20%20%20%20%20%20%20%20%20%20%7D%29%3B%0A%0A%20%20%20%20%20%20%20%20%20%20%20%20%0A%20%20%20%20%20%20%20%20%20%20%20%20%20%20%20%20var%20html_51805429fdd146d79b4184bdf8e7d80b%20%3D%20%24%28%60%3Cdiv%20id%3D%22html_51805429fdd146d79b4184bdf8e7d80b%22%20style%3D%22width%3A%20100.0%25%3B%20height%3A%20100.0%25%3B%22%3EDolphinaris%20Arizona%3C/div%3E%60%29%5B0%5D%3B%0A%20%20%20%20%20%20%20%20%20%20%20%20%20%20%20%20popup_293ea71da2aa42c4b006d4586ca101cf.setContent%28html_51805429fdd146d79b4184bdf8e7d80b%29%3B%0A%20%20%20%20%20%20%20%20%20%20%20%20%0A%0A%20%20%20%20%20%20%20%20%20%20%20%20marker_16c17b07ae9b41efae486f676dfa22b2.bindPopup%28popup_293ea71da2aa42c4b006d4586ca101cf%29%0A%20%20%20%20%20%20%20%20%20%20%20%20%3B%0A%0A%20%20%20%20%20%20%20%20%20%20%20%20%0A%20%20%20%20%20%20%20%20%0A%20%20%20%20%0A%20%20%20%20%20%20%20%20var%20marker_b45f63d03db546d68ce36dc6b0fc09c6%20%3D%20L.marker%28%0A%20%20%20%20%20%20%20%20%20%20%20%20%5B36.12101%2C%20-115.17793%5D%2C%0A%20%20%20%20%20%20%20%20%20%20%20%20%7B%0A%20%20%20%20%20%20%20%20%20%20%20%20%20%20%20%20icon%3A%20new%20L.Icon.Default%28%29%2C%0A%20%20%20%20%20%20%20%20%20%20%20%20%20%20%20%20%7D%0A%20%20%20%20%20%20%20%20%20%20%20%20%29.addTo%28map_e862da06b8af4f4e9dd59044783c2a2a%29%3B%0A%20%20%20%20%20%20%20%20%0A%20%20%20%20%0A%20%20%20%20%20%20%20%20%20%20%20%20var%20popup_82231d1bbc53451c8d16be7a30da96af%20%3D%20L.popup%28%7BmaxWidth%3A%20%27100%25%27%0A%20%20%20%20%20%20%20%20%20%20%20%20%0A%20%20%20%20%20%20%20%20%20%20%20%20%7D%29%3B%0A%0A%20%20%20%20%20%20%20%20%20%20%20%20%0A%20%20%20%20%20%20%20%20%20%20%20%20%20%20%20%20var%20html_094231461ecc4b28b66e75325a68ecc9%20%3D%20%24%28%60%3Cdiv%20id%3D%22html_094231461ecc4b28b66e75325a68ecc9%22%20style%3D%22width%3A%20100.0%25%3B%20height%3A%20100.0%25%3B%22%3EMirage%20Dolphin%20Habitat%3C/div%3E%60%29%5B0%5D%3B%0A%20%20%20%20%20%20%20%20%20%20%20%20%20%20%20%20popup_82231d1bbc53451c8d16be7a30da96af.setContent%28html_094231461ecc4b28b66e75325a68ecc9%29%3B%0A%20%20%20%20%20%20%20%20%20%20%20%20%0A%0A%20%20%20%20%20%20%20%20%20%20%20%20marker_b45f63d03db546d68ce36dc6b0fc09c6.bindPopup%28popup_82231d1bbc53451c8d16be7a30da96af%29%0A%20%20%20%20%20%20%20%20%20%20%20%20%3B%0A%0A%20%20%20%20%20%20%20%20%20%20%20%20%0A%20%20%20%20%20%20%20%20%0A%20%20%20%20%0A%20%20%20%20%20%20%20%20var%20marker_59c3bc90b7e1436fbec051511e67f06f%20%3D%20L.marker%28%0A%20%20%20%20%20%20%20%20%20%20%20%20%5B39.76767%2C%20-86.18021999999999%5D%2C%0A%20%20%20%20%20%20%20%20%20%20%20%20%7B%0A%20%20%20%20%20%20%20%20%20%20%20%20%20%20%20%20icon%3A%20new%20L.Icon.Default%28%29%2C%0A%20%20%20%20%20%20%20%20%20%20%20%20%20%20%20%20%7D%0A%20%20%20%20%20%20%20%20%20%20%20%20%29.addTo%28map_e862da06b8af4f4e9dd59044783c2a2a%29%3B%0A%20%20%20%20%20%20%20%20%0A%20%20%20%20%0A%20%20%20%20%20%20%20%20%20%20%20%20var%20popup_ed72588977b048dfa6ab9cc8091ca401%20%3D%20L.popup%28%7BmaxWidth%3A%20%27100%25%27%0A%20%20%20%20%20%20%20%20%20%20%20%20%0A%20%20%20%20%20%20%20%20%20%20%20%20%7D%29%3B%0A%0A%20%20%20%20%20%20%20%20%20%20%20%20%0A%20%20%20%20%20%20%20%20%20%20%20%20%20%20%20%20var%20html_b3083e38d4f24605a61729fef1d95ef3%20%3D%20%24%28%60%3Cdiv%20id%3D%22html_b3083e38d4f24605a61729fef1d95ef3%22%20style%3D%22width%3A%20100.0%25%3B%20height%3A%20100.0%25%3B%22%3EIndianapolis%20Zoo%3C/div%3E%60%29%5B0%5D%3B%0A%20%20%20%20%20%20%20%20%20%20%20%20%20%20%20%20popup_ed72588977b048dfa6ab9cc8091ca401.setContent%28html_b3083e38d4f24605a61729fef1d95ef3%29%3B%0A%20%20%20%20%20%20%20%20%20%20%20%20%0A%0A%20%20%20%20%20%20%20%20%20%20%20%20marker_59c3bc90b7e1436fbec051511e67f06f.bindPopup%28popup_ed72588977b048dfa6ab9cc8091ca401%29%0A%20%20%20%20%20%20%20%20%20%20%20%20%3B%0A%0A%20%20%20%20%20%20%20%20%20%20%20%20%0A%20%20%20%20%20%20%20%20%0A%20%20%20%20%0A%20%20%20%20%20%20%20%20var%20marker_afa77cd31a0842299cc00cbce3b4f7ec%20%3D%20L.marker%28%0A%20%20%20%20%20%20%20%20%20%20%20%20%5B26.88223%2C%20-77.61075%5D%2C%0A%20%20%20%20%20%20%20%20%20%20%20%20%7B%0A%20%20%20%20%20%20%20%20%20%20%20%20%20%20%20%20icon%3A%20new%20L.Icon.Default%28%29%2C%0A%20%20%20%20%20%20%20%20%20%20%20%20%20%20%20%20%7D%0A%20%20%20%20%20%20%20%20%20%20%20%20%29.addTo%28map_e862da06b8af4f4e9dd59044783c2a2a%29%3B%0A%20%20%20%20%20%20%20%20%0A%20%20%20%20%0A%20%20%20%20%20%20%20%20%20%20%20%20var%20popup_60fb0b8c514945a5978645fe4484bdc2%20%3D%20L.popup%28%7BmaxWidth%3A%20%27100%25%27%0A%20%20%20%20%20%20%20%20%20%20%20%20%0A%20%20%20%20%20%20%20%20%20%20%20%20%7D%29%3B%0A%0A%20%20%20%20%20%20%20%20%20%20%20%20%0A%20%20%20%20%20%20%20%20%20%20%20%20%20%20%20%20var%20html_3b9d2d5aa3d84f23b89c57f9eedbdbc4%20%3D%20%24%28%60%3Cdiv%20id%3D%22html_3b9d2d5aa3d84f23b89c57f9eedbdbc4%22%20style%3D%22width%3A%20100.0%25%3B%20height%3A%20100.0%25%3B%22%3EDolphin%20Connection%3C/div%3E%60%29%5B0%5D%3B%0A%20%20%20%20%20%20%20%20%20%20%20%20%20%20%20%20popup_60fb0b8c514945a5978645fe4484bdc2.setContent%28html_3b9d2d5aa3d84f23b89c57f9eedbdbc4%29%3B%0A%20%20%20%20%20%20%20%20%20%20%20%20%0A%0A%20%20%20%20%20%20%20%20%20%20%20%20marker_afa77cd31a0842299cc00cbce3b4f7ec.bindPopup%28popup_60fb0b8c514945a5978645fe4484bdc2%29%0A%20%20%20%20%20%20%20%20%20%20%20%20%3B%0A%0A%20%20%20%20%20%20%20%20%20%20%20%20%0A%20%20%20%20%20%20%20%20%0A%20%20%20%20%0A%20%20%20%20%20%20%20%20var%20marker_ffb79d71d2a443ad9b1f1bb81f7be01f%20%3D%20L.marker%28%0A%20%20%20%20%20%20%20%20%20%20%20%20%5B25.119229999999998%2C%20-80.41842%5D%2C%0A%20%20%20%20%20%20%20%20%20%20%20%20%7B%0A%20%20%20%20%20%20%20%20%20%20%20%20%20%20%20%20icon%3A%20new%20L.Icon.Default%28%29%2C%0A%20%20%20%20%20%20%20%20%20%20%20%20%20%20%20%20%7D%0A%20%20%20%20%20%20%20%20%20%20%20%20%29.addTo%28map_e862da06b8af4f4e9dd59044783c2a2a%29%3B%0A%20%20%20%20%20%20%20%20%0A%20%20%20%20%0A%20%20%20%20%20%20%20%20%20%20%20%20var%20popup_4b24d27681c9473689669d7901667a69%20%3D%20L.popup%28%7BmaxWidth%3A%20%27100%25%27%0A%20%20%20%20%20%20%20%20%20%20%20%20%0A%20%20%20%20%20%20%20%20%20%20%20%20%7D%29%3B%0A%0A%20%20%20%20%20%20%20%20%20%20%20%20%0A%20%20%20%20%20%20%20%20%20%20%20%20%20%20%20%20var%20html_4be002cb16dd4173b3dac8ed9e81ed8e%20%3D%20%24%28%60%3Cdiv%20id%3D%22html_4be002cb16dd4173b3dac8ed9e81ed8e%22%20style%3D%22width%3A%20100.0%25%3B%20height%3A%20100.0%25%3B%22%3EDolphins%20Plus%20Bayside%3C/div%3E%60%29%5B0%5D%3B%0A%20%20%20%20%20%20%20%20%20%20%20%20%20%20%20%20popup_4b24d27681c9473689669d7901667a69.setContent%28html_4be002cb16dd4173b3dac8ed9e81ed8e%29%3B%0A%20%20%20%20%20%20%20%20%20%20%20%20%0A%0A%20%20%20%20%20%20%20%20%20%20%20%20marker_ffb79d71d2a443ad9b1f1bb81f7be01f.bindPopup%28popup_4b24d27681c9473689669d7901667a69%29%0A%20%20%20%20%20%20%20%20%20%20%20%20%3B%0A%0A%20%20%20%20%20%20%20%20%20%20%20%20%0A%20%20%20%20%20%20%20%20%0A%20%20%20%20%0A%20%20%20%20%20%20%20%20var%20marker_5f80b608463f47c7849795f89fccc03a%20%3D%20L.marker%28%0A%20%20%20%20%20%20%20%20%20%20%20%20%5B25.77508%2C%20-80.194702%5D%2C%0A%20%20%20%20%20%20%20%20%20%20%20%20%7B%0A%20%20%20%20%20%20%20%20%20%20%20%20%20%20%20%20icon%3A%20new%20L.Icon.Default%28%29%2C%0A%20%20%20%20%20%20%20%20%20%20%20%20%20%20%20%20%7D%0A%20%20%20%20%20%20%20%20%20%20%20%20%29.addTo%28map_e862da06b8af4f4e9dd59044783c2a2a%29%3B%0A%20%20%20%20%20%20%20%20%0A%20%20%20%20%0A%20%20%20%20%20%20%20%20%20%20%20%20var%20popup_19fd1ce3d0f647af838c1f3133c0e7e2%20%3D%20L.popup%28%7BmaxWidth%3A%20%27100%25%27%0A%20%20%20%20%20%20%20%20%20%20%20%20%0A%20%20%20%20%20%20%20%20%20%20%20%20%7D%29%3B%0A%0A%20%20%20%20%20%20%20%20%20%20%20%20%0A%20%20%20%20%20%20%20%20%20%20%20%20%20%20%20%20var%20html_7af6e3c8d67941abb3a7168fb8111e5f%20%3D%20%24%28%60%3Cdiv%20id%3D%22html_7af6e3c8d67941abb3a7168fb8111e5f%22%20style%3D%22width%3A%20100.0%25%3B%20height%3A%20100.0%25%3B%22%3EMiami%20Seaquarium%3C/div%3E%60%29%5B0%5D%3B%0A%20%20%20%20%20%20%20%20%20%20%20%20%20%20%20%20popup_19fd1ce3d0f647af838c1f3133c0e7e2.setContent%28html_7af6e3c8d67941abb3a7168fb8111e5f%29%3B%0A%20%20%20%20%20%20%20%20%20%20%20%20%0A%0A%20%20%20%20%20%20%20%20%20%20%20%20marker_5f80b608463f47c7849795f89fccc03a.bindPopup%28popup_19fd1ce3d0f647af838c1f3133c0e7e2%29%0A%20%20%20%20%20%20%20%20%20%20%20%20%3B%0A%0A%20%20%20%20%20%20%20%20%20%20%20%20%0A%20%20%20%20%20%20%20%20%0A%20%20%20%20%0A%20%20%20%20%20%20%20%20var%20marker_ec385a2e1cfc471083ffb613d384b830%20%3D%20L.marker%28%0A%20%20%20%20%20%20%20%20%20%20%20%20%5B27.977120000000003%2C%20-82.81874%5D%2C%0A%20%20%20%20%20%20%20%20%20%20%20%20%7B%0A%20%20%20%20%20%20%20%20%20%20%20%20%20%20%20%20icon%3A%20new%20L.Icon.Default%28%29%2C%0A%20%20%20%20%20%20%20%20%20%20%20%20%20%20%20%20%7D%0A%20%20%20%20%20%20%20%20%20%20%20%20%29.addTo%28map_e862da06b8af4f4e9dd59044783c2a2a%29%3B%0A%20%20%20%20%20%20%20%20%0A%20%20%20%20%0A%20%20%20%20%20%20%20%20%20%20%20%20var%20popup_1591a2268ddd4025ab708b43afd7304a%20%3D%20L.popup%28%7BmaxWidth%3A%20%27100%25%27%0A%20%20%20%20%20%20%20%20%20%20%20%20%0A%20%20%20%20%20%20%20%20%20%20%20%20%7D%29%3B%0A%0A%20%20%20%20%20%20%20%20%20%20%20%20%0A%20%20%20%20%20%20%20%20%20%20%20%20%20%20%20%20var%20html_43126394d13648d792178b9328b5edc7%20%3D%20%24%28%60%3Cdiv%20id%3D%22html_43126394d13648d792178b9328b5edc7%22%20style%3D%22width%3A%20100.0%25%3B%20height%3A%20100.0%25%3B%22%3EClearwater%20Marine%20Aquarium%3C/div%3E%60%29%5B0%5D%3B%0A%20%20%20%20%20%20%20%20%20%20%20%20%20%20%20%20popup_1591a2268ddd4025ab708b43afd7304a.setContent%28html_43126394d13648d792178b9328b5edc7%29%3B%0A%20%20%20%20%20%20%20%20%20%20%20%20%0A%0A%20%20%20%20%20%20%20%20%20%20%20%20marker_ec385a2e1cfc471083ffb613d384b830.bindPopup%28popup_1591a2268ddd4025ab708b43afd7304a%29%0A%20%20%20%20%20%20%20%20%20%20%20%20%3B%0A%0A%20%20%20%20%20%20%20%20%20%20%20%20%0A%20%20%20%20%20%20%20%20%0A%20%20%20%20%0A%20%20%20%20%20%20%20%20var%20marker_92cb1b79a8d54fe09f23771527a25cb1%20%3D%20L.marker%28%0A%20%20%20%20%20%20%20%20%20%20%20%20%5B30.420640000000002%2C%20-89.018%5D%2C%0A%20%20%20%20%20%20%20%20%20%20%20%20%7B%0A%20%20%20%20%20%20%20%20%20%20%20%20%20%20%20%20icon%3A%20new%20L.Icon.Default%28%29%2C%0A%20%20%20%20%20%20%20%20%20%20%20%20%20%20%20%20%7D%0A%20%20%20%20%20%20%20%20%20%20%20%20%29.addTo%28map_e862da06b8af4f4e9dd59044783c2a2a%29%3B%0A%20%20%20%20%20%20%20%20%0A%20%20%20%20%0A%20%20%20%20%20%20%20%20%20%20%20%20var%20popup_7602f1faf5ed4f9db2203da18b0cdd3d%20%3D%20L.popup%28%7BmaxWidth%3A%20%27100%25%27%0A%20%20%20%20%20%20%20%20%20%20%20%20%0A%20%20%20%20%20%20%20%20%20%20%20%20%7D%29%3B%0A%0A%20%20%20%20%20%20%20%20%20%20%20%20%0A%20%20%20%20%20%20%20%20%20%20%20%20%20%20%20%20var%20html_0487c6a602d94448a71802d6ee97092f%20%3D%20%24%28%60%3Cdiv%20id%3D%22html_0487c6a602d94448a71802d6ee97092f%22%20style%3D%22width%3A%20100.0%25%3B%20height%3A%20100.0%25%3B%22%3EInst.%20for%20Marine%20Mammal%20Studies%3C/div%3E%60%29%5B0%5D%3B%0A%20%20%20%20%20%20%20%20%20%20%20%20%20%20%20%20popup_7602f1faf5ed4f9db2203da18b0cdd3d.setContent%28html_0487c6a602d94448a71802d6ee97092f%29%3B%0A%20%20%20%20%20%20%20%20%20%20%20%20%0A%0A%20%20%20%20%20%20%20%20%20%20%20%20marker_92cb1b79a8d54fe09f23771527a25cb1.bindPopup%28popup_7602f1faf5ed4f9db2203da18b0cdd3d%29%0A%20%20%20%20%20%20%20%20%20%20%20%20%3B%0A%0A%20%20%20%20%20%20%20%20%20%20%20%20%0A%20%20%20%20%20%20%20%20%0A%20%20%20%20%0A%20%20%20%20%20%20%20%20var%20marker_fb371a254b674455b5ae9b63f3b2bf46%20%3D%20L.marker%28%0A%20%20%20%20%20%20%20%20%20%20%20%20%5B21.35401%2C%20-157.94168%5D%2C%0A%20%20%20%20%20%20%20%20%20%20%20%20%7B%0A%20%20%20%20%20%20%20%20%20%20%20%20%20%20%20%20icon%3A%20new%20L.Icon.Default%28%29%2C%0A%20%20%20%20%20%20%20%20%20%20%20%20%20%20%20%20%7D%0A%20%20%20%20%20%20%20%20%20%20%20%20%29.addTo%28map_e862da06b8af4f4e9dd59044783c2a2a%29%3B%0A%20%20%20%20%20%20%20%20%0A%20%20%20%20%0A%20%20%20%20%20%20%20%20%20%20%20%20var%20popup_85e33f1280574dfab04f629a45541088%20%3D%20L.popup%28%7BmaxWidth%3A%20%27100%25%27%0A%20%20%20%20%20%20%20%20%20%20%20%20%0A%20%20%20%20%20%20%20%20%20%20%20%20%7D%29%3B%0A%0A%20%20%20%20%20%20%20%20%20%20%20%20%0A%20%20%20%20%20%20%20%20%20%20%20%20%20%20%20%20var%20html_d968e87dd7914cdfb98b9eedf344594e%20%3D%20%24%28%60%3Cdiv%20id%3D%22html_d968e87dd7914cdfb98b9eedf344594e%22%20style%3D%22width%3A%20100.0%25%3B%20height%3A%20100.0%25%3B%22%3EU.S.%20Navy%20Hawaii%3C/div%3E%60%29%5B0%5D%3B%0A%20%20%20%20%20%20%20%20%20%20%20%20%20%20%20%20popup_85e33f1280574dfab04f629a45541088.setContent%28html_d968e87dd7914cdfb98b9eedf344594e%29%3B%0A%20%20%20%20%20%20%20%20%20%20%20%20%0A%0A%20%20%20%20%20%20%20%20%20%20%20%20marker_fb371a254b674455b5ae9b63f3b2bf46.bindPopup%28popup_85e33f1280574dfab04f629a45541088%29%0A%20%20%20%20%20%20%20%20%20%20%20%20%3B%0A%0A%20%20%20%20%20%20%20%20%20%20%20%20%0A%20%20%20%20%20%20%20%20%0A%20%20%20%20%0A%20%20%20%20%20%20%20%20var%20marker_7135386ad54146918c5d1cc500f21049%20%3D%20L.marker%28%0A%20%20%20%20%20%20%20%20%20%20%20%20%5B38.138459999999995%2C%20-122.23368%5D%2C%0A%20%20%20%20%20%20%20%20%20%20%20%20%7B%0A%20%20%20%20%20%20%20%20%20%20%20%20%20%20%20%20icon%3A%20new%20L.Icon.Default%28%29%2C%0A%20%20%20%20%20%20%20%20%20%20%20%20%20%20%20%20%7D%0A%20%20%20%20%20%20%20%20%20%20%20%20%29.addTo%28map_e862da06b8af4f4e9dd59044783c2a2a%29%3B%0A%20%20%20%20%20%20%20%20%0A%20%20%20%20%0A%20%20%20%20%20%20%20%20%20%20%20%20var%20popup_8746b28958bb43ed9e3c7550e2b557a7%20%3D%20L.popup%28%7BmaxWidth%3A%20%27100%25%27%0A%20%20%20%20%20%20%20%20%20%20%20%20%0A%20%20%20%20%20%20%20%20%20%20%20%20%7D%29%3B%0A%0A%20%20%20%20%20%20%20%20%20%20%20%20%0A%20%20%20%20%20%20%20%20%20%20%20%20%20%20%20%20var%20html_aea004393af54881971b1b5944c522d0%20%3D%20%24%28%60%3Cdiv%20id%3D%22html_aea004393af54881971b1b5944c522d0%22%20style%3D%22width%3A%20100.0%25%3B%20height%3A%20100.0%25%3B%22%3EMarine%20World%20Africa%20USA%3C/div%3E%60%29%5B0%5D%3B%0A%20%20%20%20%20%20%20%20%20%20%20%20%20%20%20%20popup_8746b28958bb43ed9e3c7550e2b557a7.setContent%28html_aea004393af54881971b1b5944c522d0%29%3B%0A%20%20%20%20%20%20%20%20%20%20%20%20%0A%0A%20%20%20%20%20%20%20%20%20%20%20%20marker_7135386ad54146918c5d1cc500f21049.bindPopup%28popup_8746b28958bb43ed9e3c7550e2b557a7%29%0A%20%20%20%20%20%20%20%20%20%20%20%20%3B%0A%0A%20%20%20%20%20%20%20%20%20%20%20%20%0A%20%20%20%20%20%20%20%20%0A%20%20%20%20%0A%20%20%20%20%20%20%20%20var%20marker_d192117a27d34eb19b3a9af66a25ffed%20%3D%20L.marker%28%0A%20%20%20%20%20%20%20%20%20%20%20%20%5B45.062909999999995%2C%20-93.42947%5D%2C%0A%20%20%20%20%20%20%20%20%20%20%20%20%7B%0A%20%20%20%20%20%20%20%20%20%20%20%20%20%20%20%20icon%3A%20new%20L.Icon.Default%28%29%2C%0A%20%20%20%20%20%20%20%20%20%20%20%20%20%20%20%20%7D%0A%20%20%20%20%20%20%20%20%20%20%20%20%29.addTo%28map_e862da06b8af4f4e9dd59044783c2a2a%29%3B%0A%20%20%20%20%20%20%20%20%0A%20%20%20%20%0A%20%20%20%20%20%20%20%20%20%20%20%20var%20popup_4d3b0921b401481ea5b3c1eab8244d94%20%3D%20L.popup%28%7BmaxWidth%3A%20%27100%25%27%0A%20%20%20%20%20%20%20%20%20%20%20%20%0A%20%20%20%20%20%20%20%20%20%20%20%20%7D%29%3B%0A%0A%20%20%20%20%20%20%20%20%20%20%20%20%0A%20%20%20%20%20%20%20%20%20%20%20%20%20%20%20%20var%20html_b24e96ade8d547eb91cdfc841615bfdd%20%3D%20%24%28%60%3Cdiv%20id%3D%22html_b24e96ade8d547eb91cdfc841615bfdd%22%20style%3D%22width%3A%20100.0%25%3B%20height%3A%20100.0%25%3B%22%3EMinnesota%20Zoological%20Garden%3C/div%3E%60%29%5B0%5D%3B%0A%20%20%20%20%20%20%20%20%20%20%20%20%20%20%20%20popup_4d3b0921b401481ea5b3c1eab8244d94.setContent%28html_b24e96ade8d547eb91cdfc841615bfdd%29%3B%0A%20%20%20%20%20%20%20%20%20%20%20%20%0A%0A%20%20%20%20%20%20%20%20%20%20%20%20marker_d192117a27d34eb19b3a9af66a25ffed.bindPopup%28popup_4d3b0921b401481ea5b3c1eab8244d94%29%0A%20%20%20%20%20%20%20%20%20%20%20%20%3B%0A%0A%20%20%20%20%20%20%20%20%20%20%20%20%0A%20%20%20%20%20%20%20%20%0A%20%20%20%20%0A%20%20%20%20%20%20%20%20var%20marker_c2981fc7325c41ddb12c9b86fe1e26fc%20%3D%20L.marker%28%0A%20%20%20%20%20%20%20%20%20%20%20%20%5B27.333609999999997%2C%20-82.57723%5D%2C%0A%20%20%20%20%20%20%20%20%20%20%20%20%7B%0A%20%20%20%20%20%20%20%20%20%20%20%20%20%20%20%20icon%3A%20new%20L.Icon.Default%28%29%2C%0A%20%20%20%20%20%20%20%20%20%20%20%20%20%20%20%20%7D%0A%20%20%20%20%20%20%20%20%20%20%20%20%29.addTo%28map_e862da06b8af4f4e9dd59044783c2a2a%29%3B%0A%20%20%20%20%20%20%20%20%0A%20%20%20%20%0A%20%20%20%20%20%20%20%20%20%20%20%20var%20popup_edee7cc76a944c14be6d4aea972dbde9%20%3D%20L.popup%28%7BmaxWidth%3A%20%27100%25%27%0A%20%20%20%20%20%20%20%20%20%20%20%20%0A%20%20%20%20%20%20%20%20%20%20%20%20%7D%29%3B%0A%0A%20%20%20%20%20%20%20%20%20%20%20%20%0A%20%20%20%20%20%20%20%20%20%20%20%20%20%20%20%20var%20html_b83936bd4ae6403ea05ef7e152c04d92%20%3D%20%24%28%60%3Cdiv%20id%3D%22html_b83936bd4ae6403ea05ef7e152c04d92%22%20style%3D%22width%3A%20100.0%25%3B%20height%3A%20100.0%25%3B%22%3EMarine%20Life%20Oceanarium%3C/div%3E%60%29%5B0%5D%3B%0A%20%20%20%20%20%20%20%20%20%20%20%20%20%20%20%20popup_edee7cc76a944c14be6d4aea972dbde9.setContent%28html_b83936bd4ae6403ea05ef7e152c04d92%29%3B%0A%20%20%20%20%20%20%20%20%20%20%20%20%0A%0A%20%20%20%20%20%20%20%20%20%20%20%20marker_c2981fc7325c41ddb12c9b86fe1e26fc.bindPopup%28popup_edee7cc76a944c14be6d4aea972dbde9%29%0A%20%20%20%20%20%20%20%20%20%20%20%20%3B%0A%0A%20%20%20%20%20%20%20%20%20%20%20%20%0A%20%20%20%20%20%20%20%20%0A%20%20%20%20%0A%20%20%20%20%20%20%20%20var%20marker_c451e9e06d174257a6cb7b22a052ec59%20%3D%20L.marker%28%0A%20%20%20%20%20%20%20%20%20%20%20%20%5B21.29105%2C%20-157.8607%5D%2C%0A%20%20%20%20%20%20%20%20%20%20%20%20%7B%0A%20%20%20%20%20%20%20%20%20%20%20%20%20%20%20%20icon%3A%20new%20L.Icon.Default%28%29%2C%0A%20%20%20%20%20%20%20%20%20%20%20%20%20%20%20%20%7D%0A%20%20%20%20%20%20%20%20%20%20%20%20%29.addTo%28map_e862da06b8af4f4e9dd59044783c2a2a%29%3B%0A%20%20%20%20%20%20%20%20%0A%20%20%20%20%0A%20%20%20%20%20%20%20%20%20%20%20%20var%20popup_13840e35222e4558979b99da77fa2ba1%20%3D%20L.popup%28%7BmaxWidth%3A%20%27100%25%27%0A%20%20%20%20%20%20%20%20%20%20%20%20%0A%20%20%20%20%20%20%20%20%20%20%20%20%7D%29%3B%0A%0A%20%20%20%20%20%20%20%20%20%20%20%20%0A%20%20%20%20%20%20%20%20%20%20%20%20%20%20%20%20var%20html_339d9be1f18349b988cc2945c3e3c1a5%20%3D%20%24%28%60%3Cdiv%20id%3D%22html_339d9be1f18349b988cc2945c3e3c1a5%22%20style%3D%22width%3A%20100.0%25%3B%20height%3A%20100.0%25%3B%22%3EKewalo%20Basin%20Marine%20Mammal%20Laboratory%3C/div%3E%60%29%5B0%5D%3B%0A%20%20%20%20%20%20%20%20%20%20%20%20%20%20%20%20popup_13840e35222e4558979b99da77fa2ba1.setContent%28html_339d9be1f18349b988cc2945c3e3c1a5%29%3B%0A%20%20%20%20%20%20%20%20%20%20%20%20%0A%0A%20%20%20%20%20%20%20%20%20%20%20%20marker_c451e9e06d174257a6cb7b22a052ec59.bindPopup%28popup_13840e35222e4558979b99da77fa2ba1%29%0A%20%20%20%20%20%20%20%20%20%20%20%20%3B%0A%0A%20%20%20%20%20%20%20%20%20%20%20%20%0A%20%20%20%20%20%20%20%20%0A%20%20%20%20%0A%20%20%20%20%20%20%20%20var%20marker_a6c217bce623453b80fad5c771c51e4d%20%3D%20L.marker%28%0A%20%20%20%20%20%20%20%20%20%20%20%20%5B36.99815%2C%20-122.0589%5D%2C%0A%20%20%20%20%20%20%20%20%20%20%20%20%7B%0A%20%20%20%20%20%20%20%20%20%20%20%20%20%20%20%20icon%3A%20new%20L.Icon.Default%28%29%2C%0A%20%20%20%20%20%20%20%20%20%20%20%20%20%20%20%20%7D%0A%20%20%20%20%20%20%20%20%20%20%20%20%29.addTo%28map_e862da06b8af4f4e9dd59044783c2a2a%29%3B%0A%20%20%20%20%20%20%20%20%0A%20%20%20%20%0A%20%20%20%20%20%20%20%20%20%20%20%20var%20popup_cdcf9d69dc7f483a95f901a96db5b8fc%20%3D%20L.popup%28%7BmaxWidth%3A%20%27100%25%27%0A%20%20%20%20%20%20%20%20%20%20%20%20%0A%20%20%20%20%20%20%20%20%20%20%20%20%7D%29%3B%0A%0A%20%20%20%20%20%20%20%20%20%20%20%20%0A%20%20%20%20%20%20%20%20%20%20%20%20%20%20%20%20var%20html_c976b52f90a047aa87439b2fc29a2fe1%20%3D%20%24%28%60%3Cdiv%20id%3D%22html_c976b52f90a047aa87439b2fc29a2fe1%22%20style%3D%22width%3A%20100.0%25%3B%20height%3A%20100.0%25%3B%22%3EInstitute%20for%20Marine%20Sciences%3C/div%3E%60%29%5B0%5D%3B%0A%20%20%20%20%20%20%20%20%20%20%20%20%20%20%20%20popup_cdcf9d69dc7f483a95f901a96db5b8fc.setContent%28html_c976b52f90a047aa87439b2fc29a2fe1%29%3B%0A%20%20%20%20%20%20%20%20%20%20%20%20%0A%0A%20%20%20%20%20%20%20%20%20%20%20%20marker_a6c217bce623453b80fad5c771c51e4d.bindPopup%28popup_cdcf9d69dc7f483a95f901a96db5b8fc%29%0A%20%20%20%20%20%20%20%20%20%20%20%20%3B%0A%0A%20%20%20%20%20%20%20%20%20%20%20%20%0A%20%20%20%20%20%20%20%20%0A%20%20%20%20%0A%20%20%20%20%20%20%20%20var%20marker_0cdd762ac8ed4a3c9f5c59b14fe6cd5d%20%3D%20L.marker%28%0A%20%20%20%20%20%20%20%20%20%20%20%20%5B21.27211%2C%20-157.77348999999998%5D%2C%0A%20%20%20%20%20%20%20%20%20%20%20%20%7B%0A%20%20%20%20%20%20%20%20%20%20%20%20%20%20%20%20icon%3A%20new%20L.Icon.Default%28%29%2C%0A%20%20%20%20%20%20%20%20%20%20%20%20%20%20%20%20%7D%0A%20%20%20%20%20%20%20%20%20%20%20%20%29.addTo%28map_e862da06b8af4f4e9dd59044783c2a2a%29%3B%0A%20%20%20%20%20%20%20%20%0A%20%20%20%20%0A%20%20%20%20%20%20%20%20%20%20%20%20var%20popup_db4ca42d88404858b9e1c053318c7108%20%3D%20L.popup%28%7BmaxWidth%3A%20%27100%25%27%0A%20%20%20%20%20%20%20%20%20%20%20%20%0A%20%20%20%20%20%20%20%20%20%20%20%20%7D%29%3B%0A%0A%20%20%20%20%20%20%20%20%20%20%20%20%0A%20%20%20%20%20%20%20%20%20%20%20%20%20%20%20%20var%20html_ee5d315974824000bea673e1d463fbef%20%3D%20%24%28%60%3Cdiv%20id%3D%22html_ee5d315974824000bea673e1d463fbef%22%20style%3D%22width%3A%20100.0%25%3B%20height%3A%20100.0%25%3B%22%3EKahala%20Mandarin%20Oriental%20Hawaii%3C/div%3E%60%29%5B0%5D%3B%0A%20%20%20%20%20%20%20%20%20%20%20%20%20%20%20%20popup_db4ca42d88404858b9e1c053318c7108.setContent%28html_ee5d315974824000bea673e1d463fbef%29%3B%0A%20%20%20%20%20%20%20%20%20%20%20%20%0A%0A%20%20%20%20%20%20%20%20%20%20%20%20marker_0cdd762ac8ed4a3c9f5c59b14fe6cd5d.bindPopup%28popup_db4ca42d88404858b9e1c053318c7108%29%0A%20%20%20%20%20%20%20%20%20%20%20%20%3B%0A%0A%20%20%20%20%20%20%20%20%20%20%20%20%0A%20%20%20%20%20%20%20%20%0A%20%20%20%20%0A%20%20%20%20%20%20%20%20var%20marker_9e96b363c5cb478ea9f0a7aadb3fd1cd%20%3D%20L.marker%28%0A%20%20%20%20%20%20%20%20%20%20%20%20%5B21.31364%2C%20-157.66288%5D%2C%0A%20%20%20%20%20%20%20%20%20%20%20%20%7B%0A%20%20%20%20%20%20%20%20%20%20%20%20%20%20%20%20icon%3A%20new%20L.Icon.Default%28%29%2C%0A%20%20%20%20%20%20%20%20%20%20%20%20%20%20%20%20%7D%0A%20%20%20%20%20%20%20%20%20%20%20%20%29.addTo%28map_e862da06b8af4f4e9dd59044783c2a2a%29%3B%0A%20%20%20%20%20%20%20%20%0A%20%20%20%20%0A%20%20%20%20%20%20%20%20%20%20%20%20var%20popup_fb677590cd9140a297bbc5f7adacc8c2%20%3D%20L.popup%28%7BmaxWidth%3A%20%27100%25%27%0A%20%20%20%20%20%20%20%20%20%20%20%20%0A%20%20%20%20%20%20%20%20%20%20%20%20%7D%29%3B%0A%0A%20%20%20%20%20%20%20%20%20%20%20%20%0A%20%20%20%20%20%20%20%20%20%20%20%20%20%20%20%20var%20html_39c3e5b5910646818eae031b8b81e744%20%3D%20%24%28%60%3Cdiv%20id%3D%22html_39c3e5b5910646818eae031b8b81e744%22%20style%3D%22width%3A%20100.0%25%3B%20height%3A%20100.0%25%3B%22%3ESea%20Life%20Park%20Hawaii%3C/div%3E%60%29%5B0%5D%3B%0A%20%20%20%20%20%20%20%20%20%20%20%20%20%20%20%20popup_fb677590cd9140a297bbc5f7adacc8c2.setContent%28html_39c3e5b5910646818eae031b8b81e744%29%3B%0A%20%20%20%20%20%20%20%20%20%20%20%20%0A%0A%20%20%20%20%20%20%20%20%20%20%20%20marker_9e96b363c5cb478ea9f0a7aadb3fd1cd.bindPopup%28popup_fb677590cd9140a297bbc5f7adacc8c2%29%0A%20%20%20%20%20%20%20%20%20%20%20%20%3B%0A%0A%20%20%20%20%20%20%20%20%20%20%20%20%0A%20%20%20%20%20%20%20%20%0A%20%20%20%20%0A%20%20%20%20%20%20%20%20var%20marker_581553c3dea54dc2943600ef2773e411%20%3D%20L.marker%28%0A%20%20%20%20%20%20%20%20%20%20%20%20%5B21.29406%2C%20-157.8643%5D%2C%0A%20%20%20%20%20%20%20%20%20%20%20%20%7B%0A%20%20%20%20%20%20%20%20%20%20%20%20%20%20%20%20icon%3A%20new%20L.Icon.Default%28%29%2C%0A%20%20%20%20%20%20%20%20%20%20%20%20%20%20%20%20%7D%0A%20%20%20%20%20%20%20%20%20%20%20%20%29.addTo%28map_e862da06b8af4f4e9dd59044783c2a2a%29%3B%0A%20%20%20%20%20%20%20%20%0A%20%20%20%20%0A%20%20%20%20%20%20%20%20%20%20%20%20var%20popup_4209ead00f504a2abb91a76f02c8ad47%20%3D%20L.popup%28%7BmaxWidth%3A%20%27100%25%27%0A%20%20%20%20%20%20%20%20%20%20%20%20%0A%20%20%20%20%20%20%20%20%20%20%20%20%7D%29%3B%0A%0A%20%20%20%20%20%20%20%20%20%20%20%20%0A%20%20%20%20%20%20%20%20%20%20%20%20%20%20%20%20var%20html_f605dbb50cdd4abc982687b466e71fc9%20%3D%20%24%28%60%3Cdiv%20id%3D%22html_f605dbb50cdd4abc982687b466e71fc9%22%20style%3D%22width%3A%20100.0%25%3B%20height%3A%20100.0%25%3B%22%3EPhysiological%20Research%20Laboratory%3C/div%3E%60%29%5B0%5D%3B%0A%20%20%20%20%20%20%20%20%20%20%20%20%20%20%20%20popup_4209ead00f504a2abb91a76f02c8ad47.setContent%28html_f605dbb50cdd4abc982687b466e71fc9%29%3B%0A%20%20%20%20%20%20%20%20%20%20%20%20%0A%0A%20%20%20%20%20%20%20%20%20%20%20%20marker_581553c3dea54dc2943600ef2773e411.bindPopup%28popup_4209ead00f504a2abb91a76f02c8ad47%29%0A%20%20%20%20%20%20%20%20%20%20%20%20%3B%0A%0A%20%20%20%20%20%20%20%20%20%20%20%20%0A%20%20%20%20%20%20%20%20%0A%20%20%20%20%0A%20%20%20%20%20%20%20%20var%20marker_65d94c4526964ef2a6b27f618ef049e0%20%3D%20L.marker%28%0A%20%20%20%20%20%20%20%20%20%20%20%20%5B26.6354%2C%20-81.92716999999999%5D%2C%0A%20%20%20%20%20%20%20%20%20%20%20%20%7B%0A%20%20%20%20%20%20%20%20%20%20%20%20%20%20%20%20icon%3A%20new%20L.Icon.Default%28%29%2C%0A%20%20%20%20%20%20%20%20%20%20%20%20%20%20%20%20%7D%0A%20%20%20%20%20%20%20%20%20%20%20%20%29.addTo%28map_e862da06b8af4f4e9dd59044783c2a2a%29%3B%0A%20%20%20%20%20%20%20%20%0A%20%20%20%20%0A%20%20%20%20%20%20%20%20%20%20%20%20var%20popup_8331501b7da744b9a50191441dd21d83%20%3D%20L.popup%28%7BmaxWidth%3A%20%27100%25%27%0A%20%20%20%20%20%20%20%20%20%20%20%20%0A%20%20%20%20%20%20%20%20%20%20%20%20%7D%29%3B%0A%0A%20%20%20%20%20%20%20%20%20%20%20%20%0A%20%20%20%20%20%20%20%20%20%20%20%20%20%20%20%20var%20html_8ee7431640b34247b9693f66a3997465%20%3D%20%24%28%60%3Cdiv%20id%3D%22html_8ee7431640b34247b9693f66a3997465%22%20style%3D%22width%3A%20100.0%25%3B%20height%3A%20100.0%25%3B%22%3EWaltzing%20Waters%20Aquarium%3C/div%3E%60%29%5B0%5D%3B%0A%20%20%20%20%20%20%20%20%20%20%20%20%20%20%20%20popup_8331501b7da744b9a50191441dd21d83.setContent%28html_8ee7431640b34247b9693f66a3997465%29%3B%0A%20%20%20%20%20%20%20%20%20%20%20%20%0A%0A%20%20%20%20%20%20%20%20%20%20%20%20marker_65d94c4526964ef2a6b27f618ef049e0.bindPopup%28popup_8331501b7da744b9a50191441dd21d83%29%0A%20%20%20%20%20%20%20%20%20%20%20%20%3B%0A%0A%20%20%20%20%20%20%20%20%20%20%20%20%0A%20%20%20%20%20%20%20%20%0A%20%20%20%20%0A%20%20%20%20%20%20%20%20var%20marker_2bd4eb955f2245759c3181354ab4a87c%20%3D%20L.marker%28%0A%20%20%20%20%20%20%20%20%20%20%20%20%5B28.78252%2C%20-87.8303%5D%2C%0A%20%20%20%20%20%20%20%20%20%20%20%20%7B%0A%20%20%20%20%20%20%20%20%20%20%20%20%20%20%20%20icon%3A%20new%20L.Icon.Default%28%29%2C%0A%20%20%20%20%20%20%20%20%20%20%20%20%20%20%20%20%7D%0A%20%20%20%20%20%20%20%20%20%20%20%20%29.addTo%28map_e862da06b8af4f4e9dd59044783c2a2a%29%3B%0A%20%20%20%20%20%20%20%20%0A%20%20%20%20%0A%20%20%20%20%20%20%20%20%20%20%20%20var%20popup_8f35a60f248f4f669ae8605056ee49ec%20%3D%20L.popup%28%7BmaxWidth%3A%20%27100%25%27%0A%20%20%20%20%20%20%20%20%20%20%20%20%0A%20%20%20%20%20%20%20%20%20%20%20%20%7D%29%3B%0A%0A%20%20%20%20%20%20%20%20%20%20%20%20%0A%20%20%20%20%20%20%20%20%20%20%20%20%20%20%20%20var%20html_666bdd05bbb04f5f8e8399d88f8e41a1%20%3D%20%24%28%60%3Cdiv%20id%3D%22html_666bdd05bbb04f5f8e8399d88f8e41a1%22%20style%3D%22width%3A%20100.0%25%3B%20height%3A%20100.0%25%3B%22%3EPorpoise%20Island%3C/div%3E%60%29%5B0%5D%3B%0A%20%20%20%20%20%20%20%20%20%20%20%20%20%20%20%20popup_8f35a60f248f4f669ae8605056ee49ec.setContent%28html_666bdd05bbb04f5f8e8399d88f8e41a1%29%3B%0A%20%20%20%20%20%20%20%20%20%20%20%20%0A%0A%20%20%20%20%20%20%20%20%20%20%20%20marker_2bd4eb955f2245759c3181354ab4a87c.bindPopup%28popup_8f35a60f248f4f669ae8605056ee49ec%29%0A%20%20%20%20%20%20%20%20%20%20%20%20%3B%0A%0A%20%20%20%20%20%20%20%20%20%20%20%20%0A%20%20%20%20%20%20%20%20%0A%20%20%20%20%0A%20%20%20%20%20%20%20%20var%20marker_44794796c8d844a4b7792656a19eb627%20%3D%20L.marker%28%0A%20%20%20%20%20%20%20%20%20%20%20%20%5B32.9185%2C%20-116.80205%5D%2C%0A%20%20%20%20%20%20%20%20%20%20%20%20%7B%0A%20%20%20%20%20%20%20%20%20%20%20%20%20%20%20%20icon%3A%20new%20L.Icon.Default%28%29%2C%0A%20%20%20%20%20%20%20%20%20%20%20%20%20%20%20%20%7D%0A%20%20%20%20%20%20%20%20%20%20%20%20%29.addTo%28map_e862da06b8af4f4e9dd59044783c2a2a%29%3B%0A%20%20%20%20%20%20%20%20%0A%20%20%20%20%0A%20%20%20%20%20%20%20%20%20%20%20%20var%20popup_dbccf68460e14bedb908f90354a1c646%20%3D%20L.popup%28%7BmaxWidth%3A%20%27100%25%27%0A%20%20%20%20%20%20%20%20%20%20%20%20%0A%20%20%20%20%20%20%20%20%20%20%20%20%7D%29%3B%0A%0A%20%20%20%20%20%20%20%20%20%20%20%20%0A%20%20%20%20%20%20%20%20%20%20%20%20%20%20%20%20var%20html_d525aeaee1f941b8b76af076d3f98b2d%20%3D%20%24%28%60%3Cdiv%20id%3D%22html_d525aeaee1f941b8b76af076d3f98b2d%22%20style%3D%22width%3A%20100.0%25%3B%20height%3A%20100.0%25%3B%22%3EMarine%20Mammal%20Foundation%3C/div%3E%60%29%5B0%5D%3B%0A%20%20%20%20%20%20%20%20%20%20%20%20%20%20%20%20popup_dbccf68460e14bedb908f90354a1c646.setContent%28html_d525aeaee1f941b8b76af076d3f98b2d%29%3B%0A%20%20%20%20%20%20%20%20%20%20%20%20%0A%0A%20%20%20%20%20%20%20%20%20%20%20%20marker_44794796c8d844a4b7792656a19eb627.bindPopup%28popup_dbccf68460e14bedb908f90354a1c646%29%0A%20%20%20%20%20%20%20%20%20%20%20%20%3B%0A%0A%20%20%20%20%20%20%20%20%20%20%20%20%0A%20%20%20%20%20%20%20%20%0A%20%20%20%20%0A%20%20%20%20%20%20%20%20var%20marker_dde28c8784f7489e82a9dc4ec54348e6%20%3D%20L.marker%28%0A%20%20%20%20%20%20%20%20%20%20%20%20%5B38.138740000000006%2C%20-122.23463000000001%5D%2C%0A%20%20%20%20%20%20%20%20%20%20%20%20%7B%0A%20%20%20%20%20%20%20%20%20%20%20%20%20%20%20%20icon%3A%20new%20L.Icon.Default%28%29%2C%0A%20%20%20%20%20%20%20%20%20%20%20%20%20%20%20%20%7D%0A%20%20%20%20%20%20%20%20%20%20%20%20%29.addTo%28map_e862da06b8af4f4e9dd59044783c2a2a%29%3B%0A%20%20%20%20%20%20%20%20%0A%20%20%20%20%0A%20%20%20%20%20%20%20%20%20%20%20%20var%20popup_d755d8c616234d48999d25313b831827%20%3D%20L.popup%28%7BmaxWidth%3A%20%27100%25%27%0A%20%20%20%20%20%20%20%20%20%20%20%20%0A%20%20%20%20%20%20%20%20%20%20%20%20%7D%29%3B%0A%0A%20%20%20%20%20%20%20%20%20%20%20%20%0A%20%20%20%20%20%20%20%20%20%20%20%20%20%20%20%20var%20html_8540bd23b4294f3c8579df4062e0157b%20%3D%20%24%28%60%3Cdiv%20id%3D%22html_8540bd23b4294f3c8579df4062e0157b%22%20style%3D%22width%3A%20100.0%25%3B%20height%3A%20100.0%25%3B%22%3ESix%20Flags%20Marine%20World%3C/div%3E%60%29%5B0%5D%3B%0A%20%20%20%20%20%20%20%20%20%20%20%20%20%20%20%20popup_d755d8c616234d48999d25313b831827.setContent%28html_8540bd23b4294f3c8579df4062e0157b%29%3B%0A%20%20%20%20%20%20%20%20%20%20%20%20%0A%0A%20%20%20%20%20%20%20%20%20%20%20%20marker_dde28c8784f7489e82a9dc4ec54348e6.bindPopup%28popup_d755d8c616234d48999d25313b831827%29%0A%20%20%20%20%20%20%20%20%20%20%20%20%3B%0A%0A%20%20%20%20%20%20%20%20%20%20%20%20%0A%20%20%20%20%20%20%20%20%0A%20%20%20%20%0A%20%20%20%20%20%20%20%20var%20marker_58ca9cdc84964d4eaf2da5b668d9d4ad%20%3D%20L.marker%28%0A%20%20%20%20%20%20%20%20%20%20%20%20%5B29.669320000000003%2C%20-81.21226%5D%2C%0A%20%20%20%20%20%20%20%20%20%20%20%20%7B%0A%20%20%20%20%20%20%20%20%20%20%20%20%20%20%20%20icon%3A%20new%20L.Icon.Default%28%29%2C%0A%20%20%20%20%20%20%20%20%20%20%20%20%20%20%20%20%7D%0A%20%20%20%20%20%20%20%20%20%20%20%20%29.addTo%28map_e862da06b8af4f4e9dd59044783c2a2a%29%3B%0A%20%20%20%20%20%20%20%20%0A%20%20%20%20%0A%20%20%20%20%20%20%20%20%20%20%20%20var%20popup_9458844f85cb41edbb16ef54d96bc33c%20%3D%20L.popup%28%7BmaxWidth%3A%20%27100%25%27%0A%20%20%20%20%20%20%20%20%20%20%20%20%0A%20%20%20%20%20%20%20%20%20%20%20%20%7D%29%3B%0A%0A%20%20%20%20%20%20%20%20%20%20%20%20%0A%20%20%20%20%20%20%20%20%20%20%20%20%20%20%20%20var%20html_94245f7d0ec44c5cb6c2e7271245fdb7%20%3D%20%24%28%60%3Cdiv%20id%3D%22html_94245f7d0ec44c5cb6c2e7271245fdb7%22%20style%3D%22width%3A%20100.0%25%3B%20height%3A%20100.0%25%3B%22%3EMarineland%20Amusements%20Corporation%3C/div%3E%60%29%5B0%5D%3B%0A%20%20%20%20%20%20%20%20%20%20%20%20%20%20%20%20popup_9458844f85cb41edbb16ef54d96bc33c.setContent%28html_94245f7d0ec44c5cb6c2e7271245fdb7%29%3B%0A%20%20%20%20%20%20%20%20%20%20%20%20%0A%0A%20%20%20%20%20%20%20%20%20%20%20%20marker_58ca9cdc84964d4eaf2da5b668d9d4ad.bindPopup%28popup_9458844f85cb41edbb16ef54d96bc33c%29%0A%20%20%20%20%20%20%20%20%20%20%20%20%3B%0A%0A%20%20%20%20%20%20%20%20%20%20%20%20%0A%20%20%20%20%20%20%20%20%0A%20%20%20%20%0A%20%20%20%20%20%20%20%20var%20marker_889ab674c866422abdd48365a314bcbf%20%3D%20L.marker%28%0A%20%20%20%20%20%20%20%20%20%20%20%20%5B27.3336%2C%20-82.57769%5D%2C%0A%20%20%20%20%20%20%20%20%20%20%20%20%7B%0A%20%20%20%20%20%20%20%20%20%20%20%20%20%20%20%20icon%3A%20new%20L.Icon.Default%28%29%2C%0A%20%20%20%20%20%20%20%20%20%20%20%20%20%20%20%20%7D%0A%20%20%20%20%20%20%20%20%20%20%20%20%29.addTo%28map_e862da06b8af4f4e9dd59044783c2a2a%29%3B%0A%20%20%20%20%20%20%20%20%0A%20%20%20%20%0A%20%20%20%20%20%20%20%20%20%20%20%20var%20popup_f24383126b174ecbb2c470f05a86d1ad%20%3D%20L.popup%28%7BmaxWidth%3A%20%27100%25%27%0A%20%20%20%20%20%20%20%20%20%20%20%20%0A%20%20%20%20%20%20%20%20%20%20%20%20%7D%29%3B%0A%0A%20%20%20%20%20%20%20%20%20%20%20%20%0A%20%20%20%20%20%20%20%20%20%20%20%20%20%20%20%20var%20html_e0e018c484b24273bbf3e9bb93b58ebf%20%3D%20%24%28%60%3Cdiv%20id%3D%22html_e0e018c484b24273bbf3e9bb93b58ebf%22%20style%3D%22width%3A%20100.0%25%3B%20height%3A%20100.0%25%3B%22%3EMote%20Marine%20Laboratory%3C/div%3E%60%29%5B0%5D%3B%0A%20%20%20%20%20%20%20%20%20%20%20%20%20%20%20%20popup_f24383126b174ecbb2c470f05a86d1ad.setContent%28html_e0e018c484b24273bbf3e9bb93b58ebf%29%3B%0A%20%20%20%20%20%20%20%20%20%20%20%20%0A%0A%20%20%20%20%20%20%20%20%20%20%20%20marker_889ab674c866422abdd48365a314bcbf.bindPopup%28popup_f24383126b174ecbb2c470f05a86d1ad%29%0A%20%20%20%20%20%20%20%20%20%20%20%20%3B%0A%0A%20%20%20%20%20%20%20%20%20%20%20%20%0A%20%20%20%20%20%20%20%20%0A%20%20%20%20%0A%20%20%20%20%20%20%20%20var%20marker_58e7a8f774bb43b48857c7b020a4e60a%20%3D%20L.marker%28%0A%20%20%20%20%20%20%20%20%20%20%20%20%5B41.37386%2C%20-71.95239000000001%5D%2C%0A%20%20%20%20%20%20%20%20%20%20%20%20%7B%0A%20%20%20%20%20%20%20%20%20%20%20%20%20%20%20%20icon%3A%20new%20L.Icon.Default%28%29%2C%0A%20%20%20%20%20%20%20%20%20%20%20%20%20%20%20%20%7D%0A%20%20%20%20%20%20%20%20%20%20%20%20%29.addTo%28map_e862da06b8af4f4e9dd59044783c2a2a%29%3B%0A%20%20%20%20%20%20%20%20%0A%20%20%20%20%0A%20%20%20%20%20%20%20%20%20%20%20%20var%20popup_2d014298904f4c1f99f2ddd5fc5d98bb%20%3D%20L.popup%28%7BmaxWidth%3A%20%27100%25%27%0A%20%20%20%20%20%20%20%20%20%20%20%20%0A%20%20%20%20%20%20%20%20%20%20%20%20%7D%29%3B%0A%0A%20%20%20%20%20%20%20%20%20%20%20%20%0A%20%20%20%20%20%20%20%20%20%20%20%20%20%20%20%20var%20html_f8c4a9d1a3544995b35fdc1ba03d6014%20%3D%20%24%28%60%3Cdiv%20id%3D%22html_f8c4a9d1a3544995b35fdc1ba03d6014%22%20style%3D%22width%3A%20100.0%25%3B%20height%3A%20100.0%25%3B%22%3EMystic%20Aquarium%3C/div%3E%60%29%5B0%5D%3B%0A%20%20%20%20%20%20%20%20%20%20%20%20%20%20%20%20popup_2d014298904f4c1f99f2ddd5fc5d98bb.setContent%28html_f8c4a9d1a3544995b35fdc1ba03d6014%29%3B%0A%20%20%20%20%20%20%20%20%20%20%20%20%0A%0A%20%20%20%20%20%20%20%20%20%20%20%20marker_58e7a8f774bb43b48857c7b020a4e60a.bindPopup%28popup_2d014298904f4c1f99f2ddd5fc5d98bb%29%0A%20%20%20%20%20%20%20%20%20%20%20%20%3B%0A%0A%20%20%20%20%20%20%20%20%20%20%20%20%0A%20%20%20%20%20%20%20%20%0A%20%20%20%20%0A%20%20%20%20%20%20%20%20var%20marker_b7b015022fd5424983dd25c8fb0d53ca%20%3D%20L.marker%28%0A%20%20%20%20%20%20%20%20%20%20%20%20%5B21.43273%2C%20-157.78758%5D%2C%0A%20%20%20%20%20%20%20%20%20%20%20%20%7B%0A%20%20%20%20%20%20%20%20%20%20%20%20%20%20%20%20icon%3A%20new%20L.Icon.Default%28%29%2C%0A%20%20%20%20%20%20%20%20%20%20%20%20%20%20%20%20%7D%0A%20%20%20%20%20%20%20%20%20%20%20%20%29.addTo%28map_e862da06b8af4f4e9dd59044783c2a2a%29%3B%0A%20%20%20%20%20%20%20%20%0A%20%20%20%20%0A%20%20%20%20%20%20%20%20%20%20%20%20var%20popup_371c53f636c34de2b567263a088fbc9e%20%3D%20L.popup%28%7BmaxWidth%3A%20%27100%25%27%0A%20%20%20%20%20%20%20%20%20%20%20%20%0A%20%20%20%20%20%20%20%20%20%20%20%20%7D%29%3B%0A%0A%20%20%20%20%20%20%20%20%20%20%20%20%0A%20%20%20%20%20%20%20%20%20%20%20%20%20%20%20%20var%20html_cea1d50933a143dba2421f572663450f%20%3D%20%24%28%60%3Cdiv%20id%3D%22html_cea1d50933a143dba2421f572663450f%22%20style%3D%22width%3A%20100.0%25%3B%20height%3A%20100.0%25%3B%22%3EHawaii%20Institute%20of%20Marine%20Biology%3C/div%3E%60%29%5B0%5D%3B%0A%20%20%20%20%20%20%20%20%20%20%20%20%20%20%20%20popup_371c53f636c34de2b567263a088fbc9e.setContent%28html_cea1d50933a143dba2421f572663450f%29%3B%0A%20%20%20%20%20%20%20%20%20%20%20%20%0A%0A%20%20%20%20%20%20%20%20%20%20%20%20marker_b7b015022fd5424983dd25c8fb0d53ca.bindPopup%28popup_371c53f636c34de2b567263a088fbc9e%29%0A%20%20%20%20%20%20%20%20%20%20%20%20%3B%0A%0A%20%20%20%20%20%20%20%20%20%20%20%20%0A%20%20%20%20%20%20%20%20%0A%20%20%20%20%0A%20%20%20%20%20%20%20%20var%20marker_9cbbde0594a8488db9a5121d5a2dbf21%20%3D%20L.marker%28%0A%20%20%20%20%20%20%20%20%20%20%20%20%5B39.285579999999996%2C%20-76.60771%5D%2C%0A%20%20%20%20%20%20%20%20%20%20%20%20%7B%0A%20%20%20%20%20%20%20%20%20%20%20%20%20%20%20%20icon%3A%20new%20L.Icon.Default%28%29%2C%0A%20%20%20%20%20%20%20%20%20%20%20%20%20%20%20%20%7D%0A%20%20%20%20%20%20%20%20%20%20%20%20%29.addTo%28map_e862da06b8af4f4e9dd59044783c2a2a%29%3B%0A%20%20%20%20%20%20%20%20%0A%20%20%20%20%0A%20%20%20%20%20%20%20%20%20%20%20%20var%20popup_edec09a3a01c4536997fa0145dea4537%20%3D%20L.popup%28%7BmaxWidth%3A%20%27100%25%27%0A%20%20%20%20%20%20%20%20%20%20%20%20%0A%20%20%20%20%20%20%20%20%20%20%20%20%7D%29%3B%0A%0A%20%20%20%20%20%20%20%20%20%20%20%20%0A%20%20%20%20%20%20%20%20%20%20%20%20%20%20%20%20var%20html_0cf9da274b144ec881a2b435c776cd57%20%3D%20%24%28%60%3Cdiv%20id%3D%22html_0cf9da274b144ec881a2b435c776cd57%22%20style%3D%22width%3A%20100.0%25%3B%20height%3A%20100.0%25%3B%22%3ENational%20Aquarium%20in%20Baltimore%3C/div%3E%60%29%5B0%5D%3B%0A%20%20%20%20%20%20%20%20%20%20%20%20%20%20%20%20popup_edec09a3a01c4536997fa0145dea4537.setContent%28html_0cf9da274b144ec881a2b435c776cd57%29%3B%0A%20%20%20%20%20%20%20%20%20%20%20%20%0A%0A%20%20%20%20%20%20%20%20%20%20%20%20marker_9cbbde0594a8488db9a5121d5a2dbf21.bindPopup%28popup_edec09a3a01c4536997fa0145dea4537%29%0A%20%20%20%20%20%20%20%20%20%20%20%20%3B%0A%0A%20%20%20%20%20%20%20%20%20%20%20%20%0A%20%20%20%20%20%20%20%20%0A%20%20%20%20%0A%20%20%20%20%20%20%20%20var%20marker_a1b6517b94ad48c3886223baf02ba88b%20%3D%20L.marker%28%0A%20%20%20%20%20%20%20%20%20%20%20%20%5B42.35949%2C%20-71.04876%5D%2C%0A%20%20%20%20%20%20%20%20%20%20%20%20%7B%0A%20%20%20%20%20%20%20%20%20%20%20%20%20%20%20%20icon%3A%20new%20L.Icon.Default%28%29%2C%0A%20%20%20%20%20%20%20%20%20%20%20%20%20%20%20%20%7D%0A%20%20%20%20%20%20%20%20%20%20%20%20%29.addTo%28map_e862da06b8af4f4e9dd59044783c2a2a%29%3B%0A%20%20%20%20%20%20%20%20%0A%20%20%20%20%0A%20%20%20%20%20%20%20%20%20%20%20%20var%20popup_2ab2812c71ba4993a5fa1b6b8b3808e3%20%3D%20L.popup%28%7BmaxWidth%3A%20%27100%25%27%0A%20%20%20%20%20%20%20%20%20%20%20%20%0A%20%20%20%20%20%20%20%20%20%20%20%20%7D%29%3B%0A%0A%20%20%20%20%20%20%20%20%20%20%20%20%0A%20%20%20%20%20%20%20%20%20%20%20%20%20%20%20%20var%20html_b26673e48dce4400829065fdee2db228%20%3D%20%24%28%60%3Cdiv%20id%3D%22html_b26673e48dce4400829065fdee2db228%22%20style%3D%22width%3A%20100.0%25%3B%20height%3A%20100.0%25%3B%22%3ENew%20England%20Aquarium%3C/div%3E%60%29%5B0%5D%3B%0A%20%20%20%20%20%20%20%20%20%20%20%20%20%20%20%20popup_2ab2812c71ba4993a5fa1b6b8b3808e3.setContent%28html_b26673e48dce4400829065fdee2db228%29%3B%0A%20%20%20%20%20%20%20%20%20%20%20%20%0A%0A%20%20%20%20%20%20%20%20%20%20%20%20marker_a1b6517b94ad48c3886223baf02ba88b.bindPopup%28popup_2ab2812c71ba4993a5fa1b6b8b3808e3%29%0A%20%20%20%20%20%20%20%20%20%20%20%20%3B%0A%0A%20%20%20%20%20%20%20%20%20%20%20%20%0A%20%20%20%20%20%20%20%20%0A%20%20%20%20%0A%20%20%20%20%20%20%20%20var%20marker_954eb4e63c3e47d18f497164393df0b5%20%3D%20L.marker%28%0A%20%20%20%20%20%20%20%20%20%20%20%20%5B36.94979%2C%20-122.06483999999999%5D%2C%0A%20%20%20%20%20%20%20%20%20%20%20%20%7B%0A%20%20%20%20%20%20%20%20%20%20%20%20%20%20%20%20icon%3A%20new%20L.Icon.Default%28%29%2C%0A%20%20%20%20%20%20%20%20%20%20%20%20%20%20%20%20%7D%0A%20%20%20%20%20%20%20%20%20%20%20%20%29.addTo%28map_e862da06b8af4f4e9dd59044783c2a2a%29%3B%0A%20%20%20%20%20%20%20%20%0A%20%20%20%20%0A%20%20%20%20%20%20%20%20%20%20%20%20var%20popup_9c7b88e2ac194a64a4d47c480842e967%20%3D%20L.popup%28%7BmaxWidth%3A%20%27100%25%27%0A%20%20%20%20%20%20%20%20%20%20%20%20%0A%20%20%20%20%20%20%20%20%20%20%20%20%7D%29%3B%0A%0A%20%20%20%20%20%20%20%20%20%20%20%20%0A%20%20%20%20%20%20%20%20%20%20%20%20%20%20%20%20var%20html_3d5117d0d7914460a57cac1c5856cc2f%20%3D%20%24%28%60%3Cdiv%20id%3D%22html_3d5117d0d7914460a57cac1c5856cc2f%22%20style%3D%22width%3A%20100.0%25%3B%20height%3A%20100.0%25%3B%22%3ELong%20Marine%20Laboratory%3C/div%3E%60%29%5B0%5D%3B%0A%20%20%20%20%20%20%20%20%20%20%20%20%20%20%20%20popup_9c7b88e2ac194a64a4d47c480842e967.setContent%28html_3d5117d0d7914460a57cac1c5856cc2f%29%3B%0A%20%20%20%20%20%20%20%20%20%20%20%20%0A%0A%20%20%20%20%20%20%20%20%20%20%20%20marker_954eb4e63c3e47d18f497164393df0b5.bindPopup%28popup_9c7b88e2ac194a64a4d47c480842e967%29%0A%20%20%20%20%20%20%20%20%20%20%20%20%3B%0A%0A%20%20%20%20%20%20%20%20%20%20%20%20%0A%20%20%20%20%20%20%20%20%0A%20%20%20%20%0A%20%20%20%20%20%20%20%20var%20marker_4fe4e214dcbb414783fcd2ad6774cc7c%20%3D%20L.marker%28%0A%20%20%20%20%20%20%20%20%20%20%20%20%5B40.484390000000005%2C%20-79.92195%5D%2C%0A%20%20%20%20%20%20%20%20%20%20%20%20%7B%0A%20%20%20%20%20%20%20%20%20%20%20%20%20%20%20%20icon%3A%20new%20L.Icon.Default%28%29%2C%0A%20%20%20%20%20%20%20%20%20%20%20%20%20%20%20%20%7D%0A%20%20%20%20%20%20%20%20%20%20%20%20%29.addTo%28map_e862da06b8af4f4e9dd59044783c2a2a%29%3B%0A%20%20%20%20%20%20%20%20%0A%20%20%20%20%0A%20%20%20%20%20%20%20%20%20%20%20%20var%20popup_d28bc70f1177487c805265257857f865%20%3D%20L.popup%28%7BmaxWidth%3A%20%27100%25%27%0A%20%20%20%20%20%20%20%20%20%20%20%20%0A%20%20%20%20%20%20%20%20%20%20%20%20%7D%29%3B%0A%0A%20%20%20%20%20%20%20%20%20%20%20%20%0A%20%20%20%20%20%20%20%20%20%20%20%20%20%20%20%20var%20html_e59c571f56264c63ae307be1e47096b9%20%3D%20%24%28%60%3Cdiv%20id%3D%22html_e59c571f56264c63ae307be1e47096b9%22%20style%3D%22width%3A%20100.0%25%3B%20height%3A%20100.0%25%3B%22%3EPittsburgh%20Zoo%3C/div%3E%60%29%5B0%5D%3B%0A%20%20%20%20%20%20%20%20%20%20%20%20%20%20%20%20popup_d28bc70f1177487c805265257857f865.setContent%28html_e59c571f56264c63ae307be1e47096b9%29%3B%0A%20%20%20%20%20%20%20%20%20%20%20%20%0A%0A%20%20%20%20%20%20%20%20%20%20%20%20marker_4fe4e214dcbb414783fcd2ad6774cc7c.bindPopup%28popup_d28bc70f1177487c805265257857f865%29%0A%20%20%20%20%20%20%20%20%20%20%20%20%3B%0A%0A%20%20%20%20%20%20%20%20%20%20%20%20%0A%20%20%20%20%20%20%20%20%0A%20%20%20%20%0A%20%20%20%20%20%20%20%20var%20marker_4b7262c78b214a84bf402911a2c022f1%20%3D%20L.marker%28%0A%20%20%20%20%20%20%20%20%20%20%20%20%5B47.304159999999996%2C%20-122.51673999999998%5D%2C%0A%20%20%20%20%20%20%20%20%20%20%20%20%7B%0A%20%20%20%20%20%20%20%20%20%20%20%20%20%20%20%20icon%3A%20new%20L.Icon.Default%28%29%2C%0A%20%20%20%20%20%20%20%20%20%20%20%20%20%20%20%20%7D%0A%20%20%20%20%20%20%20%20%20%20%20%20%29.addTo%28map_e862da06b8af4f4e9dd59044783c2a2a%29%3B%0A%20%20%20%20%20%20%20%20%0A%20%20%20%20%0A%20%20%20%20%20%20%20%20%20%20%20%20var%20popup_2df54ba5f83a49278f3c81ac64d67300%20%3D%20L.popup%28%7BmaxWidth%3A%20%27100%25%27%0A%20%20%20%20%20%20%20%20%20%20%20%20%0A%20%20%20%20%20%20%20%20%20%20%20%20%7D%29%3B%0A%0A%20%20%20%20%20%20%20%20%20%20%20%20%0A%20%20%20%20%20%20%20%20%20%20%20%20%20%20%20%20var%20html_c4254cab5633420b8808b4d485abea78%20%3D%20%24%28%60%3Cdiv%20id%3D%22html_c4254cab5633420b8808b4d485abea78%22%20style%3D%22width%3A%20100.0%25%3B%20height%3A%20100.0%25%3B%22%3EPoint%20Defiance%20Zoo%20and%20Aquarium%3C/div%3E%60%29%5B0%5D%3B%0A%20%20%20%20%20%20%20%20%20%20%20%20%20%20%20%20popup_2df54ba5f83a49278f3c81ac64d67300.setContent%28html_c4254cab5633420b8808b4d485abea78%29%3B%0A%20%20%20%20%20%20%20%20%20%20%20%20%0A%0A%20%20%20%20%20%20%20%20%20%20%20%20marker_4b7262c78b214a84bf402911a2c022f1.bindPopup%28popup_2df54ba5f83a49278f3c81ac64d67300%29%0A%20%20%20%20%20%20%20%20%20%20%20%20%3B%0A%0A%20%20%20%20%20%20%20%20%20%20%20%20%0A%20%20%20%20%20%20%20%20%0A%20%20%20%20%0A%20%20%20%20%20%20%20%20var%20marker_d788ba919e014cf698e3cbfdd98062fb%20%3D%20L.marker%28%0A%20%20%20%20%20%20%20%20%20%20%20%20%5B41.34832%2C%20-81.37246999999999%5D%2C%0A%20%20%20%20%20%20%20%20%20%20%20%20%7B%0A%20%20%20%20%20%20%20%20%20%20%20%20%20%20%20%20icon%3A%20new%20L.Icon.Default%28%29%2C%0A%20%20%20%20%20%20%20%20%20%20%20%20%20%20%20%20%7D%0A%20%20%20%20%20%20%20%20%20%20%20%20%29.addTo%28map_e862da06b8af4f4e9dd59044783c2a2a%29%3B%0A%20%20%20%20%20%20%20%20%0A%20%20%20%20%0A%20%20%20%20%20%20%20%20%20%20%20%20var%20popup_e82041288cbf4e4d858170a3afd34c2f%20%3D%20L.popup%28%7BmaxWidth%3A%20%27100%25%27%0A%20%20%20%20%20%20%20%20%20%20%20%20%0A%20%20%20%20%20%20%20%20%20%20%20%20%7D%29%3B%0A%0A%20%20%20%20%20%20%20%20%20%20%20%20%0A%20%20%20%20%20%20%20%20%20%20%20%20%20%20%20%20var%20html_927abc4062194384a1e16c94289d5b6e%20%3D%20%24%28%60%3Cdiv%20id%3D%22html_927abc4062194384a1e16c94289d5b6e%22%20style%3D%22width%3A%20100.0%25%3B%20height%3A%20100.0%25%3B%22%3ESea%20World%20of%20Ohio%3C/div%3E%60%29%5B0%5D%3B%0A%20%20%20%20%20%20%20%20%20%20%20%20%20%20%20%20popup_e82041288cbf4e4d858170a3afd34c2f.setContent%28html_927abc4062194384a1e16c94289d5b6e%29%3B%0A%20%20%20%20%20%20%20%20%20%20%20%20%0A%0A%20%20%20%20%20%20%20%20%20%20%20%20marker_d788ba919e014cf698e3cbfdd98062fb.bindPopup%28popup_e82041288cbf4e4d858170a3afd34c2f%29%0A%20%20%20%20%20%20%20%20%20%20%20%20%3B%0A%0A%20%20%20%20%20%20%20%20%20%20%20%20%0A%20%20%20%20%20%20%20%20%0A%20%20%20%20%0A%20%20%20%20%20%20%20%20var%20marker_aeb60fdafa5744b989a126f8765ddcd6%20%3D%20L.marker%28%0A%20%20%20%20%20%20%20%20%20%20%20%20%5B37.769740000000006%2C%20-122.46558%5D%2C%0A%20%20%20%20%20%20%20%20%20%20%20%20%7B%0A%20%20%20%20%20%20%20%20%20%20%20%20%20%20%20%20icon%3A%20new%20L.Icon.Default%28%29%2C%0A%20%20%20%20%20%20%20%20%20%20%20%20%20%20%20%20%7D%0A%20%20%20%20%20%20%20%20%20%20%20%20%29.addTo%28map_e862da06b8af4f4e9dd59044783c2a2a%29%3B%0A%20%20%20%20%20%20%20%20%0A%20%20%20%20%0A%20%20%20%20%20%20%20%20%20%20%20%20var%20popup_11abed1c5b2a434ba81f171f23087a28%20%3D%20L.popup%28%7BmaxWidth%3A%20%27100%25%27%0A%20%20%20%20%20%20%20%20%20%20%20%20%0A%20%20%20%20%20%20%20%20%20%20%20%20%7D%29%3B%0A%0A%20%20%20%20%20%20%20%20%20%20%20%20%0A%20%20%20%20%20%20%20%20%20%20%20%20%20%20%20%20var%20html_ae099888fd5149e88f0ecd4f498680b9%20%3D%20%24%28%60%3Cdiv%20id%3D%22html_ae099888fd5149e88f0ecd4f498680b9%22%20style%3D%22width%3A%20100.0%25%3B%20height%3A%20100.0%25%3B%22%3ESteinhart%20Aquarium%3C/div%3E%60%29%5B0%5D%3B%0A%20%20%20%20%20%20%20%20%20%20%20%20%20%20%20%20popup_11abed1c5b2a434ba81f171f23087a28.setContent%28html_ae099888fd5149e88f0ecd4f498680b9%29%3B%0A%20%20%20%20%20%20%20%20%20%20%20%20%0A%0A%20%20%20%20%20%20%20%20%20%20%20%20marker_aeb60fdafa5744b989a126f8765ddcd6.bindPopup%28popup_11abed1c5b2a434ba81f171f23087a28%29%0A%20%20%20%20%20%20%20%20%20%20%20%20%3B%0A%0A%20%20%20%20%20%20%20%20%20%20%20%20%0A%20%20%20%20%20%20%20%20%0A%20%20%20%20%0A%20%20%20%20%20%20%20%20var%20marker_b7a3c90d1d90477ab74750aac7fa9f40%20%3D%20L.marker%28%0A%20%20%20%20%20%20%20%20%20%20%20%20%5B24.69193%2C%20-81.46159%5D%2C%0A%20%20%20%20%20%20%20%20%20%20%20%20%7B%0A%20%20%20%20%20%20%20%20%20%20%20%20%20%20%20%20icon%3A%20new%20L.Icon.Default%28%29%2C%0A%20%20%20%20%20%20%20%20%20%20%20%20%20%20%20%20%7D%0A%20%20%20%20%20%20%20%20%20%20%20%20%29.addTo%28map_e862da06b8af4f4e9dd59044783c2a2a%29%3B%0A%20%20%20%20%20%20%20%20%0A%20%20%20%20%0A%20%20%20%20%20%20%20%20%20%20%20%20var%20popup_6afd4ec2d7354e2ab6ac25ecfda57b10%20%3D%20L.popup%28%7BmaxWidth%3A%20%27100%25%27%0A%20%20%20%20%20%20%20%20%20%20%20%20%0A%20%20%20%20%20%20%20%20%20%20%20%20%7D%29%3B%0A%0A%20%20%20%20%20%20%20%20%20%20%20%20%0A%20%20%20%20%20%20%20%20%20%20%20%20%20%20%20%20var%20html_893561c0304f47518c86b89ecb5fd2be%20%3D%20%24%28%60%3Cdiv%20id%3D%22html_893561c0304f47518c86b89ecb5fd2be%22%20style%3D%22width%3A%20100.0%25%3B%20height%3A%20100.0%25%3B%22%3ESugarloaf%20Dolphin%20Sanctuary%3C/div%3E%60%29%5B0%5D%3B%0A%20%20%20%20%20%20%20%20%20%20%20%20%20%20%20%20popup_6afd4ec2d7354e2ab6ac25ecfda57b10.setContent%28html_893561c0304f47518c86b89ecb5fd2be%29%3B%0A%20%20%20%20%20%20%20%20%20%20%20%20%0A%0A%20%20%20%20%20%20%20%20%20%20%20%20marker_b7a3c90d1d90477ab74750aac7fa9f40.bindPopup%28popup_6afd4ec2d7354e2ab6ac25ecfda57b10%29%0A%20%20%20%20%20%20%20%20%20%20%20%20%3B%0A%0A%20%20%20%20%20%20%20%20%20%20%20%20%0A%20%20%20%20%20%20%20%20%0A%20%20%20%20%0A%20%20%20%20%20%20%20%20var%20marker_4eb677119ebe44c09f5d94c251cadb98%20%3D%20L.marker%28%0A%20%20%20%20%20%20%20%20%20%20%20%20%5B40.57417%2C%20-73.97565999999999%5D%2C%0A%20%20%20%20%20%20%20%20%20%20%20%20%7B%0A%20%20%20%20%20%20%20%20%20%20%20%20%20%20%20%20icon%3A%20new%20L.Icon.Default%28%29%2C%0A%20%20%20%20%20%20%20%20%20%20%20%20%20%20%20%20%7D%0A%20%20%20%20%20%20%20%20%20%20%20%20%29.addTo%28map_e862da06b8af4f4e9dd59044783c2a2a%29%3B%0A%20%20%20%20%20%20%20%20%0A%20%20%20%20%0A%20%20%20%20%20%20%20%20%20%20%20%20var%20popup_b7633cd008f849518669397c329c8d92%20%3D%20L.popup%28%7BmaxWidth%3A%20%27100%25%27%0A%20%20%20%20%20%20%20%20%20%20%20%20%0A%20%20%20%20%20%20%20%20%20%20%20%20%7D%29%3B%0A%0A%20%20%20%20%20%20%20%20%20%20%20%20%0A%20%20%20%20%20%20%20%20%20%20%20%20%20%20%20%20var%20html_35d1a70d3d224d5bb2ff9a990422a508%20%3D%20%24%28%60%3Cdiv%20id%3D%22html_35d1a70d3d224d5bb2ff9a990422a508%22%20style%3D%22width%3A%20100.0%25%3B%20height%3A%20100.0%25%3B%22%3ENew%20York%20Aquarium%3C/div%3E%60%29%5B0%5D%3B%0A%20%20%20%20%20%20%20%20%20%20%20%20%20%20%20%20popup_b7633cd008f849518669397c329c8d92.setContent%28html_35d1a70d3d224d5bb2ff9a990422a508%29%3B%0A%20%20%20%20%20%20%20%20%20%20%20%20%0A%0A%20%20%20%20%20%20%20%20%20%20%20%20marker_4eb677119ebe44c09f5d94c251cadb98.bindPopup%28popup_b7633cd008f849518669397c329c8d92%29%0A%20%20%20%20%20%20%20%20%20%20%20%20%3B%0A%0A%20%20%20%20%20%20%20%20%20%20%20%20%0A%20%20%20%20%20%20%20%20%0A%20%20%20%20%0A%20%20%20%20%20%20%20%20var%20marker_bee6d628d4984b33a42b220e2a2c616d%20%3D%20L.marker%28%0A%20%20%20%20%20%20%20%20%20%20%20%20%5B40.58452%2C%20-73.96972%5D%2C%0A%20%20%20%20%20%20%20%20%20%20%20%20%7B%0A%20%20%20%20%20%20%20%20%20%20%20%20%20%20%20%20icon%3A%20new%20L.Icon.Default%28%29%2C%0A%20%20%20%20%20%20%20%20%20%20%20%20%20%20%20%20%7D%0A%20%20%20%20%20%20%20%20%20%20%20%20%29.addTo%28map_e862da06b8af4f4e9dd59044783c2a2a%29%3B%0A%20%20%20%20%20%20%20%20%0A%20%20%20%20%0A%20%20%20%20%20%20%20%20%20%20%20%20var%20popup_6a31567155444659b368f99fca1651b2%20%3D%20L.popup%28%7BmaxWidth%3A%20%27100%25%27%0A%20%20%20%20%20%20%20%20%20%20%20%20%0A%20%20%20%20%20%20%20%20%20%20%20%20%7D%29%3B%0A%0A%20%20%20%20%20%20%20%20%20%20%20%20%0A%20%20%20%20%20%20%20%20%20%20%20%20%20%20%20%20var%20html_92c5dd5a859849219ff540fa268ba113%20%3D%20%24%28%60%3Cdiv%20id%3D%22html_92c5dd5a859849219ff540fa268ba113%22%20style%3D%22width%3A%20100.0%25%3B%20height%3A%20100.0%25%3B%22%3EWildlife%20Conservation%20Society%3C/div%3E%60%29%5B0%5D%3B%0A%20%20%20%20%20%20%20%20%20%20%20%20%20%20%20%20popup_6a31567155444659b368f99fca1651b2.setContent%28html_92c5dd5a859849219ff540fa268ba113%29%3B%0A%20%20%20%20%20%20%20%20%20%20%20%20%0A%0A%20%20%20%20%20%20%20%20%20%20%20%20marker_bee6d628d4984b33a42b220e2a2c616d.bindPopup%28popup_6a31567155444659b368f99fca1651b2%29%0A%20%20%20%20%20%20%20%20%20%20%20%20%3B%0A%0A%20%20%20%20%20%20%20%20%20%20%20%20%0A%20%20%20%20%20%20%20%20%0A%20%20%20%20%0A%20%20%20%20%20%20%20%20var%20marker_31b3fccbc9274ff483457dccce0c4a49%20%3D%20L.marker%28%0A%20%20%20%20%20%20%20%20%20%20%20%20%5B41.65007%2C%20-70.22431999999999%5D%2C%0A%20%20%20%20%20%20%20%20%20%20%20%20%7B%0A%20%20%20%20%20%20%20%20%20%20%20%20%20%20%20%20icon%3A%20new%20L.Icon.Default%28%29%2C%0A%20%20%20%20%20%20%20%20%20%20%20%20%20%20%20%20%7D%0A%20%20%20%20%20%20%20%20%20%20%20%20%29.addTo%28map_e862da06b8af4f4e9dd59044783c2a2a%29%3B%0A%20%20%20%20%20%20%20%20%0A%20%20%20%20%0A%20%20%20%20%20%20%20%20%20%20%20%20var%20popup_2f03e2041c5b4a2ba51fe319336d6494%20%3D%20L.popup%28%7BmaxWidth%3A%20%27100%25%27%0A%20%20%20%20%20%20%20%20%20%20%20%20%0A%20%20%20%20%20%20%20%20%20%20%20%20%7D%29%3B%0A%0A%20%20%20%20%20%20%20%20%20%20%20%20%0A%20%20%20%20%20%20%20%20%20%20%20%20%20%20%20%20var%20html_9abff259449e4d5cb98f68848b7ab4c2%20%3D%20%24%28%60%3Cdiv%20id%3D%22html_9abff259449e4d5cb98f68848b7ab4c2%22%20style%3D%22width%3A%20100.0%25%3B%20height%3A%20100.0%25%3B%22%3EZooQuarium%20%28Aqua%20Circus%20of%20Cape%20Cod%29%3C/div%3E%60%29%5B0%5D%3B%0A%20%20%20%20%20%20%20%20%20%20%20%20%20%20%20%20popup_2f03e2041c5b4a2ba51fe319336d6494.setContent%28html_9abff259449e4d5cb98f68848b7ab4c2%29%3B%0A%20%20%20%20%20%20%20%20%20%20%20%20%0A%0A%20%20%20%20%20%20%20%20%20%20%20%20marker_31b3fccbc9274ff483457dccce0c4a49.bindPopup%28popup_2f03e2041c5b4a2ba51fe319336d6494%29%0A%20%20%20%20%20%20%20%20%20%20%20%20%3B%0A%0A%20%20%20%20%20%20%20%20%20%20%20%20%0A%20%20%20%20%20%20%20%20%0A%3C/script%3E onload=\"this.contentDocument.open();this.contentDocument.write(    decodeURIComponent(this.getAttribute('data-html')));this.contentDocument.close();\" allowfullscreen webkitallowfullscreen mozallowfullscreen></iframe></div></div>"
            ],
            "text/plain": [
              "<folium.folium.Map at 0x7f85a4da6e10>"
            ]
          },
          "metadata": {
            "tags": []
          },
          "execution_count": 43
        }
      ]
    },
    {
      "cell_type": "markdown",
      "metadata": {
        "id": "QSkFcMQFdrqt"
      },
      "source": [
        "# **Limitations:**\n",
        "- This data set is not current, and I would love to see the trends from 2017 -2021.\n",
        "- There was no consistency in the way the observations were entered. For ex: the location names were not standardized.\n",
        "\n",
        "# **What next?**\n",
        "- It would also be interesting to see how other countries around the world are doing. If mammals released numbers are as encouraging as we see them in the US.\n",
        "- Reasons of release - if rescued to be treated, or because they were older or something else? "
      ]
    }
  ]
}